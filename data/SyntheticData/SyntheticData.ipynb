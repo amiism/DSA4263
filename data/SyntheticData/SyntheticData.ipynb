{
  "nbformat": 4,
  "nbformat_minor": 0,
  "metadata": {
    "colab": {
      "provenance": []
    },
    "kernelspec": {
      "name": "python3",
      "display_name": "Python 3"
    },
    "language_info": {
      "name": "python"
    }
  },
  "cells": [
    {
      "cell_type": "code",
      "execution_count": 1,
      "metadata": {
        "colab": {
          "base_uri": "https://localhost:8080/"
        },
        "id": "nFdhKjhAcQnC",
        "outputId": "56ad6a07-1182-4e55-f919-46c7ba52f5d0"
      },
      "outputs": [
        {
          "output_type": "stream",
          "name": "stdout",
          "text": [
            "Collecting Faker\n",
            "  Downloading Faker-24.8.0-py3-none-any.whl (1.8 MB)\n",
            "\u001b[2K     \u001b[90m━━━━━━━━━━━━━━━━━━━━━━━━━━━━━━━━━━━━━━━━\u001b[0m \u001b[32m1.8/1.8 MB\u001b[0m \u001b[31m7.3 MB/s\u001b[0m eta \u001b[36m0:00:00\u001b[0m\n",
            "\u001b[?25hRequirement already satisfied: python-dateutil>=2.4 in /usr/local/lib/python3.10/dist-packages (from Faker) (2.8.2)\n",
            "Requirement already satisfied: six>=1.5 in /usr/local/lib/python3.10/dist-packages (from python-dateutil>=2.4->Faker) (1.16.0)\n",
            "Installing collected packages: Faker\n",
            "Successfully installed Faker-24.8.0\n"
          ]
        }
      ],
      "source": [
        "!pip install Faker\n",
        "\n",
        "from faker import Faker\n",
        "import random\n",
        "import datetime\n",
        "\n"
      ]
    },
    {
      "cell_type": "code",
      "source": [
        "fake = Faker()\n",
        "\n",
        "def generate_fake_tweet():\n",
        "    user_id = fake.unique.random_number(digits=10)\n",
        "    username = fake.user_name()\n",
        "    tweet = fake.text(max_nb_chars=280)\n",
        "    retweet_count = random.randint(0, 1000)\n",
        "    mention_count = random.randint(0, 5)\n",
        "    follower_count = random.randint(0, 1000000)\n",
        "    verified = random.choice([True, False])\n",
        "    bot_label = random.choice(['Bot', 'Human'])\n",
        "    location = fake.city()\n",
        "    created_at = fake.date_time_between(start_date='-1y', end_date='now')\n",
        "    hashtags = [fake.word() for _ in range(random.randint(0, 5))]\n",
        "    tweet_replies = generate_fake_replies()\n",
        "    common_words_in_replies = find_common_words(tweet_replies)\n",
        "\n",
        "\n",
        "    return {\n",
        "        \"User ID\": user_id,\n",
        "        \"Username\": username,\n",
        "        \"Tweet\": tweet,\n",
        "        \"Retweet Count\": retweet_count,\n",
        "        \"Mention Count\": mention_count,\n",
        "        \"Follower Count\": follower_count,\n",
        "        \"Verified\": verified,\n",
        "        \"Bot Label\": bot_label,\n",
        "        \"Location\": location,\n",
        "        \"Created At\": created_at,\n",
        "        \"Hashtags\": hashtags,\n",
        "        \"Tweet Replies\": tweet_replies,\n",
        "        \"Common Words in Replies\": common_words_in_replies\n",
        "    }\n",
        "\n"
      ],
      "metadata": {
        "id": "xaiXYXOxchv1"
      },
      "execution_count": 2,
      "outputs": []
    },
    {
      "cell_type": "code",
      "source": [
        "def generate_fake_twitter_data(num_tweets):\n",
        "    twitter_data = []\n",
        "    for _ in range(num_tweets):\n",
        "        twitter_data.append(generate_fake_tweet())\n",
        "    return twitter_data\n"
      ],
      "metadata": {
        "id": "8oMqMTxKckX6"
      },
      "execution_count": 3,
      "outputs": []
    },
    {
      "cell_type": "code",
      "source": [],
      "metadata": {
        "id": "3hFCOkUpcpxM"
      },
      "execution_count": null,
      "outputs": []
    },
    {
      "cell_type": "code",
      "source": [
        "from faker import Faker\n",
        "import random\n",
        "import datetime\n",
        "import csv\n",
        "from collections import Counter\n",
        "\n",
        "fake = Faker()\n",
        "\n",
        "def generate_fake_tweet():\n",
        "    user_id = fake.unique.random_number(digits=10)\n",
        "    username = fake.user_name()\n",
        "    tweet = fake.text(max_nb_chars=280)\n",
        "    retweet_count = random.randint(0, 1000)\n",
        "    mention_count = random.randint(0, 5)\n",
        "    follower_count = random.randint(0, 1000000)\n",
        "    verified = random.choice([True, False])\n",
        "    bot_label = random.choice(['Bot', 'Human'])\n",
        "    location = fake.city()\n",
        "    created_at = fake.date_time_between(start_date='-1y', end_date='now')\n",
        "    hashtags = [fake.word() for _ in range(random.randint(0, 5))]\n",
        "    tweet_replies = generate_fake_replies()\n",
        "    common_words_in_replies = find_common_words(tweet_replies)\n",
        "\n",
        "    return {\n",
        "        \"User ID\": user_id,\n",
        "        \"Username\": username,\n",
        "        \"Tweet\": tweet,\n",
        "        \"Retweet Count\": retweet_count,\n",
        "        \"Mention Count\": mention_count,\n",
        "        \"Follower Count\": follower_count,\n",
        "        \"Verified\": verified,\n",
        "        \"Bot Label\": bot_label,\n",
        "        \"Location\": location,\n",
        "        \"Created At\": created_at,\n",
        "        \"Hashtags\": hashtags,\n",
        "        \"Tweet Replies\": tweet_replies,\n",
        "        \"Common Words in Replies\": common_words_in_replies\n",
        "    }\n",
        "\n",
        "def generate_fake_replies():\n",
        "    return [fake.text(max_nb_chars=random.randint(10, 100)) for _ in range(random.randint(0, 20))]\n",
        "\n",
        "def find_common_words(replies):\n",
        "    words = [word for reply in replies for word in reply.split()]\n",
        "    word_count = Counter(words)\n",
        "    most_common_words = word_count.most_common(3)  # Change the number to get more or fewer common words\n",
        "    return [word[0] for word in most_common_words]\n",
        "\n",
        "def write_to_csv(data, filename):\n",
        "    with open(filename, 'w', newline='') as csvfile:\n",
        "        fieldnames = list(data[0].keys())\n",
        "        writer = csv.DictWriter(csvfile, fieldnames=fieldnames)\n",
        "        writer.writeheader()\n",
        "        for row in data:\n",
        "            writer.writerow(row)\n",
        "\n",
        "# Generate fake Twitter data\n",
        "fake_twitter_data = generate_fake_twitter_data(100)\n",
        "\n",
        "# Write fake Twitter data to CSV file\n",
        "write_to_csv(fake_twitter_data, 'fake_twitter_data.csv')\n"
      ],
      "metadata": {
        "id": "Oj4O3jceh582"
      },
      "execution_count": 5,
      "outputs": []
    },
    {
      "cell_type": "code",
      "source": [
        "from google.colab import files\n",
        "\n",
        "files.download('fake_twitter_data.csv')"
      ],
      "metadata": {
        "colab": {
          "base_uri": "https://localhost:8080/",
          "height": 34
        },
        "id": "bC4vyRxFgkEJ",
        "outputId": "4cb98525-3fad-4362-a861-a37bad675894"
      },
      "execution_count": 6,
      "outputs": [
        {
          "output_type": "display_data",
          "data": {
            "text/plain": [
              "<IPython.core.display.Javascript object>"
            ],
            "application/javascript": [
              "\n",
              "    async function download(id, filename, size) {\n",
              "      if (!google.colab.kernel.accessAllowed) {\n",
              "        return;\n",
              "      }\n",
              "      const div = document.createElement('div');\n",
              "      const label = document.createElement('label');\n",
              "      label.textContent = `Downloading \"${filename}\": `;\n",
              "      div.appendChild(label);\n",
              "      const progress = document.createElement('progress');\n",
              "      progress.max = size;\n",
              "      div.appendChild(progress);\n",
              "      document.body.appendChild(div);\n",
              "\n",
              "      const buffers = [];\n",
              "      let downloaded = 0;\n",
              "\n",
              "      const channel = await google.colab.kernel.comms.open(id);\n",
              "      // Send a message to notify the kernel that we're ready.\n",
              "      channel.send({})\n",
              "\n",
              "      for await (const message of channel.messages) {\n",
              "        // Send a message to notify the kernel that we're ready.\n",
              "        channel.send({})\n",
              "        if (message.buffers) {\n",
              "          for (const buffer of message.buffers) {\n",
              "            buffers.push(buffer);\n",
              "            downloaded += buffer.byteLength;\n",
              "            progress.value = downloaded;\n",
              "          }\n",
              "        }\n",
              "      }\n",
              "      const blob = new Blob(buffers, {type: 'application/binary'});\n",
              "      const a = document.createElement('a');\n",
              "      a.href = window.URL.createObjectURL(blob);\n",
              "      a.download = filename;\n",
              "      div.appendChild(a);\n",
              "      a.click();\n",
              "      div.remove();\n",
              "    }\n",
              "  "
            ]
          },
          "metadata": {}
        },
        {
          "output_type": "display_data",
          "data": {
            "text/plain": [
              "<IPython.core.display.Javascript object>"
            ],
            "application/javascript": [
              "download(\"download_98cde0c5-488e-41ec-8f3f-fdba8cdedc0b\", \"fake_twitter_data.csv\", 80308)"
            ]
          },
          "metadata": {}
        }
      ]
    },
    {
      "cell_type": "code",
      "source": [],
      "metadata": {
        "id": "KNMZyw5mzd_P"
      },
      "execution_count": null,
      "outputs": []
    }
  ]
}