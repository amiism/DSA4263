{
  "nbformat": 4,
  "nbformat_minor": 0,
  "metadata": {
    "colab": {
      "provenance": []
    },
    "kernelspec": {
      "name": "python3",
      "display_name": "Python 3"
    },
    "language_info": {
      "name": "python"
    }
  },
  "cells": [
    {
      "cell_type": "markdown",
      "source": [
        "The pupose of the code is to test Hypothesis 4: **Bots are less likely to be geographically consistent or provide accurate location data.**\n",
        "\n",
        "Data Points: geo_enabled, location.\n",
        "Analyze the geographical consistency of tweets from users with geo_enabled. Bots may have geo_enabled but rarely use it, or they may provide vague or changing location information.\n",
        "\n"
      ],
      "metadata": {
        "id": "tvcjVHrA8nrW"
      }
    },
    {
      "cell_type": "code",
      "execution_count": 2,
      "metadata": {
        "id": "gsQpWK-l8jqn"
      },
      "outputs": [],
      "source": [
        "import numpy as np\n",
        "import pandas as pd"
      ]
    },
    {
      "cell_type": "code",
      "source": [
        "url = 'https://raw.githubusercontent.com/amiism/DSA4263/main/data/UsersData/combined_users_full.csv'\n",
        "df1 = pd.read_csv(url)\n",
        "# Dataset is now stored in a Pandas Dataframe"
      ],
      "metadata": {
        "id": "9NzLI8MX82q8"
      },
      "execution_count": 3,
      "outputs": []
    },
    {
      "cell_type": "code",
      "source": [
        "# Drop columns with zero non-null elements\n",
        "df2 = df1.dropna(axis=1, how='all')"
      ],
      "metadata": {
        "id": "QDNWpDzL84yh"
      },
      "execution_count": 4,
      "outputs": []
    },
    {
      "cell_type": "code",
      "source": [
        "similar_split_columns=['url', 'default_profile_image', 'profile_background_tile', 'is_translator', 'protected', 'verified']"
      ],
      "metadata": {
        "id": "agm0h9Qr87rm"
      },
      "execution_count": 5,
      "outputs": []
    },
    {
      "cell_type": "code",
      "source": [
        "# Create df3 by dropping columns with more than 50% missing values and similar split between types\n",
        "df3 = df2.drop(columns=similar_split_columns)"
      ],
      "metadata": {
        "id": "TlPL4Pcq8-Xa"
      },
      "execution_count": 6,
      "outputs": []
    },
    {
      "cell_type": "code",
      "source": [
        "df3['geo_enabled'].head(10)"
      ],
      "metadata": {
        "colab": {
          "base_uri": "https://localhost:8080/"
        },
        "id": "islpijVr9Afl",
        "outputId": "6b09f562-91d5-4063-fc8c-a01000192320"
      },
      "execution_count": null,
      "outputs": [
        {
          "output_type": "execute_result",
          "data": {
            "text/plain": [
              "0    NaN\n",
              "1    1.0\n",
              "2    NaN\n",
              "3    1.0\n",
              "4    NaN\n",
              "5    NaN\n",
              "6    NaN\n",
              "7    NaN\n",
              "8    NaN\n",
              "9    NaN\n",
              "Name: geo_enabled, dtype: float64"
            ]
          },
          "metadata": {},
          "execution_count": 10
        }
      ]
    },
    {
      "cell_type": "code",
      "source": [
        "df3['geo_enabled'].info()"
      ],
      "metadata": {
        "colab": {
          "base_uri": "https://localhost:8080/"
        },
        "id": "QidQYAgy9KOu",
        "outputId": "4cbc4548-70c5-4127-f5df-644b0b91a2c1"
      },
      "execution_count": null,
      "outputs": [
        {
          "output_type": "stream",
          "name": "stdout",
          "text": [
            "<class 'pandas.core.series.Series'>\n",
            "RangeIndex: 11017 entries, 0 to 11016\n",
            "Series name: geo_enabled\n",
            "Non-Null Count  Dtype  \n",
            "--------------  -----  \n",
            "3294 non-null   float64\n",
            "dtypes: float64(1)\n",
            "memory usage: 86.2 KB\n"
          ]
        }
      ]
    },
    {
      "cell_type": "code",
      "source": [
        "# Replace NaN values with 0\n",
        "df3['geo_enabled'] = df3['geo_enabled'].fillna(0)\n",
        "\n",
        "# Convert float to integer\n",
        "df3['geo_enabled'] = df3['geo_enabled'].astype(int)\n",
        "\n",
        "# Display the first few rows to verify the conversion\n",
        "df3['geo_enabled'].head(10)"
      ],
      "metadata": {
        "colab": {
          "base_uri": "https://localhost:8080/"
        },
        "id": "6yWn-whU9Q65",
        "outputId": "65e4dba4-480e-479b-d173-968f5097bfc3"
      },
      "execution_count": 7,
      "outputs": [
        {
          "output_type": "execute_result",
          "data": {
            "text/plain": [
              "0    0\n",
              "1    1\n",
              "2    0\n",
              "3    1\n",
              "4    0\n",
              "5    0\n",
              "6    0\n",
              "7    0\n",
              "8    0\n",
              "9    0\n",
              "Name: geo_enabled, dtype: int64"
            ]
          },
          "metadata": {},
          "execution_count": 7
        }
      ]
    },
    {
      "cell_type": "code",
      "source": [
        "# Group data by 'Type' and count occurrences of 'geo_enabled'\n",
        "geo_enabled_counts = df3.groupby('Type')['geo_enabled'].value_counts()\n",
        "\n",
        "# Print the counts\n",
        "print(geo_enabled_counts)\n"
      ],
      "metadata": {
        "colab": {
          "base_uri": "https://localhost:8080/"
        },
        "id": "wBx4Mbyx94yb",
        "outputId": "299e0e71-3bbb-4978-d48c-bd9f0ff0e3d5"
      },
      "execution_count": 8,
      "outputs": [
        {
          "output_type": "stream",
          "name": "stdout",
          "text": [
            "Type     geo_enabled\n",
            "Bot      0              6404\n",
            "         1              1139\n",
            "Genuine  1              2155\n",
            "         0              1319\n",
            "Name: count, dtype: int64\n"
          ]
        }
      ]
    },
    {
      "cell_type": "code",
      "source": [
        "import matplotlib.pyplot as plt\n",
        "\n",
        "# Group data by 'Type' and count occurrences of 'geo_enabled'\n",
        "geo_enabled_counts = df3.groupby('Type')['geo_enabled'].value_counts()\n",
        "\n",
        "# Extract counts for each 'Type'\n",
        "bot_counts = geo_enabled_counts['Bot']\n",
        "genuine_counts = geo_enabled_counts['Genuine']\n",
        "\n",
        "# Plot pie chart for 'Bot'\n",
        "plt.figure(figsize=(10, 5))\n",
        "plt.subplot(1, 2, 1)\n",
        "plt.pie(bot_counts, labels=['Not Enabled', 'Enabled'], autopct='%1.1f%%', startangle=140)\n",
        "plt.title('Geo-enabled Distribution for Bots')\n",
        "\n",
        "# Plot pie chart for 'Genuine'\n",
        "plt.subplot(1, 2, 2)\n",
        "plt.pie(genuine_counts, labels=['Not Enabled', 'Enabled'], autopct='%1.1f%%', startangle=140)\n",
        "plt.title('Geo-enabled Distribution for Genuine Users')\n",
        "\n",
        "plt.tight_layout()\n",
        "plt.show()\n"
      ],
      "metadata": {
        "colab": {
          "base_uri": "https://localhost:8080/",
          "height": 523
        },
        "id": "qbeqRfUE-Lc6",
        "outputId": "26aa7d42-96ad-43e1-fee1-1b09753f80e0"
      },
      "execution_count": 9,
      "outputs": [
        {
          "output_type": "display_data",
          "data": {
            "text/plain": [
              "<Figure size 1000x500 with 2 Axes>"
            ],
            "image/png": "[encoded data removed]"
          },
          "metadata": {}
        }
      ]
    },
    {
      "cell_type": "markdown",
      "source": [
        "This result is promising and shows we should consider this in our final model"
      ],
      "metadata": {
        "id": "T-xtawpj-7hP"
      }
    },
    {
      "cell_type": "code",
      "source": [
        "df3['location'].head(50)"
      ],
      "metadata": {
        "colab": {
          "base_uri": "https://localhost:8080/"
        },
        "id": "bbanrHIo-lGM",
        "outputId": "18453bc1-1b40-4b66-da3f-32e416ad4036"
      },
      "execution_count": 10,
      "outputs": [
        {
          "output_type": "execute_result",
          "data": {
            "text/plain": [
              "0                         NaN\n",
              "1                     Ontario\n",
              "2               abruzzo-italy\n",
              "3                         NaN\n",
              "4                         NaN\n",
              "5                 Chicago, IL\n",
              "6                         NaN\n",
              "7                         NaN\n",
              "8                         NaN\n",
              "9                   Worldwide\n",
              "10                     Taiwan\n",
              "11    Broken Arrow/Stillwater\n",
              "12                        NaN\n",
              "13            Santiago, Chile\n",
              "14                        NaN\n",
              "15                        NaN\n",
              "16                        NaN\n",
              "17                        NaN\n",
              "18                        NaN\n",
              "19                        NaN\n",
              "20                    Perugia\n",
              "21                    Twitter\n",
              "22                        NaN\n",
              "23                        NaN\n",
              "24                 Wellington\n",
              "25          Brunei Darussalam\n",
              "26                        NaN\n",
              "27    my location is out here\n",
              "28                        NaN\n",
              "29                    Twitter\n",
              "30                #tsunamimob\n",
              "31                        NaN\n",
              "32                        NaN\n",
              "33     Cebu City, Philippines\n",
              "34                        NaN\n",
              "35         Salt Lake City, UT\n",
              "36                        NaN\n",
              "37                        NaN\n",
              "38                  L'algerie\n",
              "39                        NaN\n",
              "40                        NaN\n",
              "41                        NaN\n",
              "42                        NaN\n",
              "43                 Newark, NJ\n",
              "44                    Milano \n",
              "45                Roanoke, VA\n",
              "46                        NaN\n",
              "47                        NaN\n",
              "48                        NaN\n",
              "49                        NaN\n",
              "Name: location, dtype: object"
            ]
          },
          "metadata": {},
          "execution_count": 10
        }
      ]
    },
    {
      "cell_type": "code",
      "source": [
        "# Get unique locations\n",
        "unique_locations = df3['location'].unique()\n",
        "\n",
        "# Print the list of unique locations\n",
        "unique_locations"
      ],
      "metadata": {
        "colab": {
          "base_uri": "https://localhost:8080/"
        },
        "id": "aV5Z3kdO_HZ5",
        "outputId": "f3889587-7e55-4cd4-d9b3-4f9fa20b4309"
      },
      "execution_count": 11,
      "outputs": [
        {
          "output_type": "execute_result",
          "data": {
            "text/plain": [
              "array([nan, 'Ontario', 'abruzzo-italy', ..., 'on my labtop',\n",
              "       'Palm Springs, California', 'Bangladesh,Asia'], dtype=object)"
            ]
          },
          "metadata": {},
          "execution_count": 11
        }
      ]
    },
    {
      "cell_type": "code",
      "source": [
        "len(unique_locations)"
      ],
      "metadata": {
        "colab": {
          "base_uri": "https://localhost:8080/"
        },
        "id": "aHMp2zXr_-J7",
        "outputId": "dfff0264-32b5-4740-d55e-63fcafc4fee0"
      },
      "execution_count": 12,
      "outputs": [
        {
          "output_type": "execute_result",
          "data": {
            "text/plain": [
              "2552"
            ]
          },
          "metadata": {},
          "execution_count": 12
        }
      ]
    },
    {
      "cell_type": "code",
      "source": [
        "# Set pandas option to display all rows\n",
        "pd.set_option('display.max_rows', None)\n",
        "\n",
        "# Print the first 100 entries of unique_locations\n",
        "print(unique_locations[:100])"
      ],
      "metadata": {
        "colab": {
          "base_uri": "https://localhost:8080/"
        },
        "id": "XrX-0i42AKPC",
        "outputId": "052c2f3d-e3a1-420c-da56-14364b574e50"
      },
      "execution_count": 13,
      "outputs": [
        {
          "output_type": "stream",
          "name": "stdout",
          "text": [
            "[nan 'Ontario' 'abruzzo-italy' 'Chicago, IL' 'Worldwide' 'Taiwan'\n",
            " 'Broken Arrow/Stillwater' 'Santiago, Chile' 'Perugia' 'Twitter'\n",
            " 'Wellington' 'Brunei Darussalam' 'my location is out here' '#tsunamimob'\n",
            " 'Cebu City, Philippines' 'Salt Lake City, UT' \"L'algerie\" 'Newark, NJ'\n",
            " 'Milano ' 'Roanoke, VA' 'LA, California' '(south) bay area'\n",
            " 'United States' 'Bergamo' 'North Carolina Non-Metro' 'New Mexico'\n",
            " 'Campinas-SP' 'Kailua Kona★ | 76 South º |' 'Triad Area, NC'\n",
            " 'Paphos, Cyprus' 'Bay Area' 'Benin' 'LA Raised Me' 'Tulsa, OK'\n",
            " 'Nassau County, NY' 'Tampa Bay, FLORIDA' 'Trinidad' 'Toronto' '3-22-15'\n",
            " 'Colorado, USA' 'Puerto Rico' 'Oklahoma City, OK' 'In giro per casa'\n",
            " 'Firenze' 'S\\\\xe3o Paulo-SP' 'Miami & Chicago' 'Ramapo, NY'\n",
            " 'Mexico , Guadalajara Jalisco' 'Planet Earth' 'Central California '\n",
            " 'jersey' 'US' 'Genova' 'Providence, RI' 'Orlando, FL' 'Tokyo, Japan'\n",
            " 'Great Britain' 'Middletown, CT' 'Salento' 'Napoli '\n",
            " 'Baguio City, Philippines' 'Pakistan' 'Philippines' 'Brescia' 'Gibraltar'\n",
            " 'Indonesia' 'Mississippi  USA' 'Forte dei Marmi' 'Kansas City, MO'\n",
            " 'New York, NY' 'CEB × CGY • Hogwarts' 'St. Paul, MN' 'Asia♥'\n",
            " 'Washington State' 'St. Joseph, MO' ' ☻☻☻☻☻☹/6' 'Massachusetts' 'Italia'\n",
            " 'Milano' 'Tejas' 'Columbia, SC' 'California ✈️ Cebu'\n",
            " 'Antártica Chilena, Chile' 'Madrid, Spain' 'Kuwait,,,or,,,Egypt'\n",
            " 'In between lines' 'England' 'Wisconsin' 'Pearl of the Orient. :D' 'Roma'\n",
            " 'virginia ' 'Torino' 'Genocidistan  (no, not the ME)' 'Tucson, Arizona'\n",
            " 'Peterborough' 'Trinidad/new york' 'bay area' 'Hamilton. Canada'\n",
            " 'LA - EUA' 'Trinidad and Tobago']\n"
          ]
        }
      ]
    },
    {
      "cell_type": "code",
      "source": [
        "# Get the counts of each location\n",
        "location_counts = df3['location'].value_counts()\n",
        "\n",
        "# Find the most common location\n",
        "most_common_location = location_counts.idxmax()\n",
        "\n",
        "# Print the most common location\n",
        "print(\"Most common location:\", most_common_location)\n"
      ],
      "metadata": {
        "colab": {
          "base_uri": "https://localhost:8080/"
        },
        "id": "BM8Rs_n6AX3B",
        "outputId": "9f1b27b0-ef07-49a1-a9bc-4579cbd7c0d5"
      },
      "execution_count": 14,
      "outputs": [
        {
          "output_type": "stream",
          "name": "stdout",
          "text": [
            "Most common location: Roma\n"
          ]
        }
      ]
    },
    {
      "cell_type": "markdown",
      "source": [
        "Roma may be a common location because one of the bot datasets were created from bots that created by the team of an Italian politician"
      ],
      "metadata": {
        "id": "AOCowfa4DwCP"
      }
    },
    {
      "cell_type": "code",
      "source": [
        "unique_locations_by_type = df3.groupby('Type')['location'].unique()\n",
        "\n",
        "# Get unique locations for each type\n",
        "unique_locations_bot = set(unique_locations_by_type['Bot'])\n",
        "unique_locations_genuine = set(unique_locations_by_type['Genuine'])\n",
        "\n",
        "# Get the common unique locations between types\n",
        "common_locations = unique_locations_bot.intersection(unique_locations_genuine)\n",
        "\n",
        "# Print the common unique locations\n",
        "print(\"Common unique locations between Bot and Genuine accounts:\")\n",
        "print(common_locations)\n",
        "len(common_locations)"
      ],
      "metadata": {
        "colab": {
          "base_uri": "https://localhost:8080/"
        },
        "id": "l3MMSN-7Du0K",
        "outputId": "b902fce9-36da-46f5-e01e-b68de10e2791"
      },
      "execution_count": 16,
      "outputs": [
        {
          "output_type": "stream",
          "name": "stdout",
          "text": [
            "Common unique locations between Bot and Genuine accounts:\n",
            "{'Melbourne', 'New York, NY', 'ireland', 'Europe', 'Las Vegas, NV', 'Bangladesh', 'Memphis, TN', 'LA', 'Dallas, TX', 'India', 'Charlotte', 'Melbourne, Australia', 'DFW, Texas', 'Pune, India', 'Rhode Island', 'Idaho, USA', 'Toronto, Canada', 'Singapore', 'US', 'Seattle', 'Oklahoma, USA', nan, 'Washington', 'Switzerland', 'Earth', 'Papua New Guinea', 'Atlanta', 'Orange County, CA', 'Silicon Valley', 'Massachusetts, USA', 'Buffalo', 'Canberra, Australia', 'UK', 'Mexico', 'Globally', 'Jamaica', 'Kansas', 'Sweden', 'Planet Earth', 'San Diego, CA', 'San Jose', 'Los Angeles, CA', 'Toronto', 'Minnesota, USA', 'Beijing', 'Austria', 'New Jersey', 'Chile', 'Peru', 'Bolivia', 'Finland', 'Venezuela', 'Sydney, Australia', 'Trinidad', 'New Orleans, LA', 'Mumbai', 'Arizona', 'Everywhere', 'California', 'Illinois', 'Washington, DC', 'Pakistan', 'Indonesia', 'new zealand ', 'Cincinnati, OH', 'Chandigarh, India', 'Santa Monica', 'United States', 'Cebu City', 'Serbia', 'Richmond, VA', 'Michigan', 'Chicago, IL', 'Tulsa, OK', 'Taiwan', 'Arkansas', 'Estonia', 'San Jose, CA', 'Honolulu, HI', 'New Zealand', 'Tennessee', 'North Carolina', 'Chennai', 'Montana', 'Reno, NV', 'Mexico City', 'Hong Kong', 'Chicago', 'California, USA', 'Ann Arbor, MI', 'Gurgaon, India', 'Alaska', 'San Francisco, CA', 'Calcutta', 'Santa Barbara, CA', 'New York', 'Florida', 'Wichita, KS', 'England', 'France', 'El Salvador', 'Colombia', 'Japan', 'Hyderabad', 'Chicago ', 'Los Angeles', 'Nova Scotia', 'Canada', 'Delhi', 'Spokane, WA', 'San Francisco', 'Egypt', 'Australia', 'Texas', 'Oakland', 'Cyprus', 'Glasgow', 'Spain', 'Toledo, OH', 'London', 'Kuwait', 'Oklahoma City, OK', 'Oklahoma', 'USA', 'Savannah, GA', 'Rancho Cucamonga, CA', 'NYC', 'Nepal', 'Philippines', 'Hawaii', 'Idaho'}\n"
          ]
        },
        {
          "output_type": "execute_result",
          "data": {
            "text/plain": [
              "131"
            ]
          },
          "metadata": {},
          "execution_count": 16
        }
      ]
    },
    {
      "cell_type": "markdown",
      "source": [
        "It is very difficult to use Location as a metric because both Genuine and Bot accounts use Locations that are not real and Bots have become very good"
      ],
      "metadata": {
        "id": "fIno8QxsUmKq"
      }
    },
    {
      "cell_type": "code",
      "source": [
        "# Get the unique locations that are only in Bot accounts\n",
        "unique_locations_only_bot = unique_locations_bot - unique_locations_genuine\n",
        "\n",
        "# Get the unique locations that are only in Genuine accounts\n",
        "unique_locations_only_genuine = unique_locations_genuine - unique_locations_bot\n",
        "\n",
        "# Print the unique locations that are only in Bot accounts\n",
        "print(\"Unique locations only in Bot accounts:\")\n",
        "print(unique_locations_only_bot)\n",
        "\n",
        "# Print the unique locations that are only in Genuine accounts\n",
        "print(\"\\nUnique locations only in Genuine accounts:\")\n",
        "print(unique_locations_only_genuine)"
      ],
      "metadata": {
        "id": "T3_4vB7VESme",
        "colab": {
          "base_uri": "https://localhost:8080/"
        },
        "outputId": "b57b0f15-adfa-405f-80a9-c74704ed364a"
      },
      "execution_count": 17,
      "outputs": [
        {
          "output_type": "stream",
          "name": "stdout",
          "text": [
            "Unique locations only in Bot accounts:\n",
            "{'Lake Tahoe, NV', 'Viterbo', 'Hull', 'Korea', 'Houston, Texas', 'South Carolina USA', 'an\\\\xe1polis//GO', 'Jaipur', 'Alexandria, VA', 'Charleston, WV', 'Firenze', 'Salento', 'Botswana', 'Lexington, KY', 'North America', 'Iran', 'South Dakota USA', 'Ft. Lauderdale, FL', 'Northern Mariana Islands', 'Livorno', 'Manitoba', 'List Building, CyberSpace', 'Mar\\\\xedlia - SP', 'Brasil MG', \"Ai piedi dell'Etna\", 'Maldives', 'Saudi Arabia', 'Sydney', 'California Non-Metro', 'North Carolina Non-Metro', 'Kenya', 'Ataleia, MG  - Brasil', 'Georgia, USA', 'Kansas, USA', 'Island of Gardena, CA', 'Ohio', '221 Baker Street', 'Charlotte, NC', 'terra do nunca', 'Illinois Non-Metro', 'Navegantes - SC ', 'Milano - Cina', \"Napoli e d'intorni\", 'Ramapo, NY', 'Network Marketing  ', 'Roanoke, VA', 'Maring\\\\xe1/S\\\\xe3o Paulo', 'Middletown, CT', 'Verona ', 'tweetville', 'Sarasota, FL USA', 'Bologna', 'Veneto', 'Raleigh', 'Albany, NY', 'South Carolina Non-Metro', 'sempre molto comoda', 'Denver, Colorado', 'Shreveport, LA', 'Syracuse, NY', 'Southern NJ', 'Im at a local location.', 'j,c (510/123)', 'Palermo', 'Pittsburgh, PA', 'Charlottesville, VA', 'Indiana, USA', 'Dallas, Texas USA', 'Little Rock', 'Phoenix, Arizona  USA', 'Mum', 'ROMA', 'Ohio Non-Metro', 'Monterrey, Mexico', 'Sorrento', 'St. Cloud, MN', 'Romano de Roma', 'Iowa, USA', 'Portland', 'Auburn Hills, MI', 'Louisville, KY', 'S\\\\xe3o Paulo \\\\u30b5\\\\u30f3\\\\u30d1\\\\u30a6\\\\u30ed', 'Denmark', 'Massachusetts USA', 'Sacramento, CA', 'New Hampshire Non-Metro', 'Brescia', 'Kazakhstan', 'Malta', 'Newfoundland', 'Washington USA', 'Columbus, Ohio', 'Nottingham', 'Calgary, Alberta Canada', 'Arkansas, USA', 'Edmonton', 'Perubas Citty', 'Turks and Caicos Islands', 'Maryland USA', 'California USA', 'North Dakota', 'Massachusetts Non-Metro', 'Manaus', 'In biblioteca', 'Cagliari', 'Salerno', 'Frankfurt Germany', 'Utah, USA', 'Omaha, NE', 'Nevada', 'San Francisco  California   US', 'Jacksonville, FL', 'New York USA', 'Djibouti', 'Venezia', 'La mia isola', 'casa mia', \"All'estrema sinistra.\", 'Oregon Non-Metro', 'Tanzania,Dar Es Salaam', 'Bahia', 'INDONESIA', 'St. Anthony, ID', 'Phoenix, AZ', 'Northern Delaware', 'Bermuda', 'Birmingham, AL', 'Bari ', 'Costa Rica', 'New Mexico', 'Kokomo, IN', 'Cardiff', 'Lithuania', 'Norfolk area, VA', 'Benevento', 'Campinas-SP', 'Uganda', 'Santar\\\\xe9m - PA', 'Santa Fe, NM', 'Guam', 'por ae ;)', 'Saskatchewan', 'North Carolina, USA', 'Yogyakarta', 'Greece', 'Maui, HI', 'Morocco', 'Detroit, MI', 'Novo Horizonte, Sao Paulo', 'Raleigh, NC', 'BRASIL', 'Vietnam', 'Empoli', 'Puglia', 'Monroe, LA', 'Columbia, SC', 'Guadalajara', 'Connecticut USA', 'New York & San Francisco', 'Eastern Region, CT', 'Louisiana Non-Metro', 'Greater Hartford, CT', 'Jakarta', 'El Paso', 'Delaware USA', 'Georgia Non-Metro', 'sweet dreams', 'Rimini', 'Atlanta  Georgia', 'Pittsburgh', 'Huntsville, AL', 'Kalamazoo, MI', 'SP - Brasiu', 'Thailand', 'Worldwide', 'Montreal', 'Lecce', 'Brazil ', 'Missouri', 'New York Non-Metro', 'Nigeria', 'Georgia', 'Geladeira Branca - Cozinha', 'Arkansas Non-Metro', 'genova', 'Ghana', 'Colorado', 'I\\\\xe7ara city', 'Wyoming Non-Metro', 'Utah USA', 'Buffalo, NY', 'Afghanistan', 'Newport News, VA', 'Aldan', 'SP - Brasil', 'S\\\\xe3o Paulo - Brasil', 'In giro per casa', 'Atlanta,Georgia', 'Montana Non-Metro', 'Nebraska, USA', 'imperatriz ma ', 'Serving North America', 'El Paso, TX', 'Bahrain', 'Firenze ', 'Zambia', 'Grand Island, NE', 'Pennsylvania, USA', 'Joplin, MO', 'Arlington, VA', 'S\\\\xe3o Paulo', 'Kansas City, KS', 'Virginia USA', 'Kitchener, Canada', 'Troy, MI', 'Mauritius', 'Paol', 'Calgary', 'Massa', 'London, UK', 'RDU, NC', 'North Carolina USA', 'Albania', 'Rio Parana\\\\xedba ', 'St. Joseph, MO', 'S\\\\xe3o Paulo-SP', 'Salvador', 'Croatia', 'トキオ', 'Catanaia ', 'French Polynesia', 'NY', 'Chicago, Illinois', 'Homedale, ID', 'Hays, KS', 'Asia', 'Winchester, VA', 'Slovenia', 'Mississippi Non-Metro', 'Mississippi', 'SC', 'Portland, ME', 'carpina', 'Miami, Florida', 'Napoli ', 'http://clickbank4-you.com', 'Jerusalem', 'Angarsk', 'HBO', 'Indiana Non-Metro', 'Phoenix Arizona', 'Iraq', 'Missouri Non-Metro', 'Guthrie, OK', 'Piracicaba-SP', 'Newcastle, UK', 'Louisiana', 'The Universe ', 'porto velho - ro - brasil', 'Benin', 'Western Area, MA', 'Charleston, SC', 'Fiuli', 'Jacksonville', 'Mobile, AL', 'Nampa, ID', 'Missouri USA', 'Kansas Non-Metro', 'Bronzeland ', 'Providence, RI', 'Cave (RM)', 'Scottsdale, AZ', 'Pato Branco PR', 'Artur Nogueira - SP', 'Edinburgh', 'Louisiana, USA', 'Macon, GA', \"Sant'Anna\", 'Panama', 'South Dakota, USA', 'Camelot', 'New Jersey Non-Metro', 'Malaya', 'Lake Charles, LA', 'Indiana USA', 'Maryland Heights, MO', 'Hertfordshire', 'Pennsylvania Non-Metro', 'Recife, Pernambuco', 'San Antonio, TX', 'kawasaki', 'England, UK', 'Growing North America', 'Dublin, Ireland', 'Tra le nuvole', 'Kentucky', 'Dead Sea Israel', 'Orlando, FL', 'OC California', 'Lancaster, CA', 'Porto Alegre/RS', 'Rondonia - Brasil', 'Montgomery, AL', 'Delaware', 'Perugia ', 'Trento', 'Mongolia', 'Uberl\\\\xe2ndia MG', 'South Africa', 'iPhone: 45.471680,9.192429', 'New Hampshire', 'Virginia Non-Metro', 'Pisa', 'Iceland', 'Pesaro ', 'Genova ', 'King of Prussia', 'Ischia', 'Zaniyas Eyes', 'Piacenza', 'Weston, FL, USA', 'Nevada USA', 'Alpharetta', 'Rio do Sul - SC ', 'Nebraska Non-Metro', 'Missouri, USA', 'LA - EUA', 'Atlanta , Ga', 'jakarta', 'colombia', 'Betim Minas Gerais', 'PR - Brasil', 'Kansas USA', 'S\\\\xe3o Paulo ', 'Coimbra', 'Davanti alla porta di casa', 'Cleveland, OH', 'Working in North America', 'Netherlands', 'Austin, Texas', 'Argentina', 'DMV', 'Venezia.', 'Concord, NH', 'Internet', 'San Maurizio Al Lambro (Mi)', 'Zimbabwe', 'Piracicaba - Sp', 'Wilmington, NC', 'Birmingham, UK', 'Doral, Florida', 'Malaysia', 'Michigan USA', 'Lafayette, IN', 'Wisconsin USA', 'Nebraska', 'Perugia', 'Montgomery', 'Texas Non-Metro', 'Ancona', 'Seychelles', 'Saint Louis, MO', 'Roma ', 'Ukraine', 'Carrara', 'Pennsylvania', 'Honduras', 'Portugal', 'Udine ', \"L'Aquila\", 'Tanzania', 'North Dakota USA', 'Tampa Bay, FL', 'Manchester, UK', 'Siena', 'Agrigento', 'DONGGUAN, CHINA', 'Prince Edward Island', 'Udine', 'Kansas City, MO', 'Tulsa', 'Sarasota, FL', 'Colorado Non-Metro', 'Catania', 'Reading in bed', 'Orlando', 'Turkey', 'Texas USA', 'ÜT: 40.917537,-73.781529', 'Myrtle Beach, SC', 'Brazil', 'Utah', \"Ethan and Lyra's house\", 'Arauco, Chile', 'Campo Grande--MS', 'Des Moines, IA', 'Israel', 'Virginia, USA', 'Lincolnshire', 'Tajikistan', 'Forte dei Marmi', 'Roma', 'Rona', 'Sheffield', 'Belgium', 'New Mexico, USA', 'NATAL-RN', 'Locarno', 'Germany', 'The Peninsula, CA', 'tampa, florida', 'Northern NJ', 'Luxembourg', 'Puerto Rico', 'Cambridge, UK', 'Cidade Maravilhosa', 'Austin, TX', 'British Columbia', 'NJ / NY / PA', 'Virginia', 'Maine Non-Metro', 'S\\\\xe3o Paulo - SP - Brazil', 'Southern Delaware', 'Torino ', 'Vicenza', 'Sudan', 'Rome', 'Washington Non-Metro', 'abruzzo-italy', 'Savona', 'Vancouver, BC ', 'Siracusa', '\\\\u0e01\\\\u0e32\\\\u0e0d\\\\u0e08\\\\u0e19\\\\u0e1a\\\\u0e38\\\\u0e23\\\\u0e35', 'Greater New Britain, CT', 'Slovakia', 'Colorado - USA', 'Harrisburg, PA', 'Macau', 'Tavares-RS', 'India, Mumbai', 'New Hampshire, USA', 'Libro', 'Natal - RN', 'Oklahoma Non-Metro', 'Milano - Uganda', 'DC Metro', 'Tysons, VA', 'Maryland, USA', 'Connecticut, USA', 'Dalle parti del Colosseo.', 'Capital-CE', 'Berekely', 'Saint Kitts and Nevis', 'Houston TX', 'Prato ', 'Richland, WA', 'Juiz de Fora', 'Qatar', 'Glenns Ferry, ID', 'Al castello delle fiabe', 'Bauru', 'http://www.KaRondaFleming.com', 'Botucatu', 'Livorno ', 'Great Britain', 'Alabama', 'Chandler, AZ', 'Guatemala', 'Roma-Londra', 'Ontario', 'Arizona, USA', 'Venezia, Italy', 'Algeria', 'Las Vegas, Nevada', 'Vitoria-es', 'Greenville, SC', 'Bengaluru', 'Chattanooga, TN', 'Portland, OR', 'SJN', 'Chad', 'Greater Enfield, CT', 'Clarence city, MO, USA', 'Minnesota Non-Metro', 'Hamilton. Canada', 'Minnesota', 'Mississippi  USA', 'Christmas Island', 'Avellino', 'New Mexico Non-Metro', 'Montana, USA', 'Boise, ID', 'Fresno, CA', 'Wordwide', 'Milano ', 'Padova', 'Rovigo', 'Auckland', 'Quebec', 'New Hampshire USA', 'Harrisonburg, VA', 'RS', 's\\\\xe3o paulo brasil', 'Aruba', 'Kentucky USA', 'New Port Richey, FL 34654', 'Tennessee, USA', 'S\\\\xe3o Paulo/Brasil', 'Napoli', 'Mostar', 'Boston', 'Atlanta,Ga', 'Tennessee Non-Metro', 'Ohio, USA', 'Brescia ', 'Springfield, IL', 'kentucky', 'Iowa USA', 'Milwaukee, WI', 'Asheville, NC', 'Indiana ', 'Bel\\\\xe9m - Pa', 'Vermont, USA', 'Ireland', 'Texas, USA', 'Brasil', 'Rio de Janeiro', 'Noida, India', 'Dublin, GA', ' S\\\\xe3o Paulo ', 'Madison, WI', 'Houston tx, Instagram:@sidonwu', 'Palermo ', 'West Virginia, USA', 'Mississippi, USA', 'Bergamo', 'Myanmar', \"Don't ask where, ask when\", 'Itali', 'Newark, NJ', '96801@Honolulu', 'dalle parti del Gran Sasso', 'Poland', 'etiopia, CG', \"un po' di qua e un po' di là\", 'Ovunque', 'United Arab Emirates', 'Romania', 'Global', 'Oman', 'Boston, USA', 'Novara', 'Polson, MT', 'Torino', 'Brasilia, Brazil', 'Central NJ', 'Russia', 'Taranto', 'Alexandria, LA', 'Florida Non-Metro', 'Qu\\\\xe9bec (Canada)', 'Dream ave', 'Fayetteville, NC', 'Recife-PE', 'Buy A Tweet----', 'o que eh ubicai\\\\xf3n?', 'USA - UK', 'Fairfax, VA', 'North Dakota Non-Metro', 'Pesaro', 'Denver, CO', 'Ipswich, MA', 'Manaus - AM', 'Arcoverde-PE Brasil', 'Emilia Romagna', 'Vitoria, ES - Brazil', 'Vermont', 'Tehran', 'Connecticut Non-Metro', 'Cassino', 'Tennessee USA', 'Azerbaijan', 'Pennsylvania USA', 'Farmington Valley, CT', 'Delaware, USA', 'Mondo', 'Maryland Non-Metro', 'Burlington, VT', 'Bangkok', 'Wyoming', 'Phillipines', 'Bertioga-SP // Brazil', 'Tunisia', 'Roma e Milano', 'West Virginia', 'Arezzo', 'Tacoma, WA', 'Maine', 'Carson City, NV', 'China', 'Rhode Island Non-Metro', 'Massachusetts', 'Southern, USA ', 'Phoenix, Az', 'Auburn, Al.', 'Lebanon', 'Essex, UK', 'Sora', 'Canelinha - SC', 'Alabama USA', 'Outer Space!', 'South Dakota', 'Trapani', 'Alabama, USA', 'Hawaii, USA', 'Rhode Island, USA', 'Foggia', 'Houston, Texas USA', 'Oakfield, WI', 'Lecce ', 'Norway', 'Miami, FL', 'RJ', 'Sandpoint, ID', 'Seattle, WA', 'Dayton, OH', 'Sardegna', 'New York, USA', 'Shanghai', 'roma', 'abacaxias', 'Columbus, OH', 'Parigi', 'Spain, Badajoz', 'Cuneo', 'Indiana', \"Cote D'lvoire\", 'Milano-HK', 'Barry, Vale of Glamorgan', 'Niteroi | Rio de Janeiro.', 'Miami & Chicago', 'Miami', 'Curitiba', 'Bari', 'MX', 'usa', 'Bergamo ', 'Salerno ', 'La Jolla, CA', 'Milano', 'Foggia ', 'Brunei Darussalam', 'Triad Area, NC', 'Bulgaria', 'Council Bluffs, IA', 'Angola', 'northern california', 'Italy', 'Italia', 'Mississippi USA', 'Verona', 'Maceio/Al', 'Sumar\\\\xe9', 'Czech Republic', 'North Dakota, USA', 'Idaho USA', 'Daytona Beach, FL', '32.921043,-97.200378', 'Michigan, USA', 'Boston, MA', 'Frascati', 'Genova', 'Atlanta, GA', 'Tucson, AZ', 'Rio de Janeiro -Rj', 'Winnipeg', 'Ethiopia', 'Sutherland, NE', 'Indianapolis, IN', 'Vancouver', 'Alaska, USA', 'Nashville, TN', 'PI', 'Rochester, NY', 'New Brunswick, Canada', 'Denver', 'ÜT: 18.4698712,-69.9327525', 'Connecticut', 'Brasiil ', 'Philadelphia, PA', 'Ecuador', 'Wisconsin Non-Metro', 'Mantova', 'Porto Alegre - Rs', 'New York ,NY', 'Oregon', 'Arizona Non-Metro', 'Boulder, CO', 'Radio Station Website Online', 'Baltimore, MD', 'Enschede', 'Norfolk Island', 'Jordan', 'New Mexico USA', 'Fiano Romano', 'South Carolina', 'Ottawa', 'Brasil,Par\\\\xe1,Bel\\\\xe9m', 'Al Castello', 'Maryland', 'DFW', 'Beverly Hills', 'Wyoming, USA', 'braasil .', 'Cambodia', 'West Palm Beach, Florida', 'Paran\\\\xe1 - Brasil', 'In Your Dreams      ', 'Stettler, Alberta. Canada', 'Rhode Island USA', 'Florida, USA', 'Houston, TX', 'Cuba', 'N. Platte, NE', 'torino', 'Mumabi, India', 'Hungary', 'Colorado, USA', 'Sandwich, UK', 'Nassau County, NY', 'email marketing', 'Salt Lake City, UT', 'Gabon', 'Sri Lanka', 'Alberta', 'Where shyt aint sweet at 504', 'Twitter', 'Albuquerque, NM', 'Powder Springs,GA', 'Latvia', 'Nicaragua', 'Cedar Rapids', 'Tornino', 'Brasil/s\\\\xe3o paulo', 'Senegal', 'Wyoming USA', 'Michigan Non-Metro', 'Stockton', 'Wisconsin', 'Phoenix', 'St. Paul, MN', 'Tampa, Florida', 'Cosenza', 'Sete Lagoas/MG - Brasil', 'World', 'Cayman Islands'}\n",
            "\n",
            "Unique locations only in Genuine accounts:\n",
            "{'Lala baby', 'Hiding in the algal bloom', 'Islamabad, Pakistan', 'Cali State of Mind', 'Squilliam Fancyson', 'LQHS', 'Tyler Tx✈️Bethany OK', 'St Helier, Jersey', 'Omnipresente', 'Sydney and the happy islands.', 'K/L', 'Bay Area☀', 'Iloilo City, Philippines', 'On the moon,Underwater', 'Baguio City, Philippines', 'USA ', '12 / 10 / 2013', 'At the bank.', 'la but i prefer paris | k&p', 'Rohini,New Delhi ,India', 'Father GOD & Mother EARTH', '     m .•*°', \"ha gotem'\", 'elmiraish', 'Sweden  Hbg ', 'Benicia, CA', 'Bay Area, Ca.', 'Baguio City ///// Nueva Ecija', 'California, Earth.', '☆★chennai★☆', '我不知道', '★Seoul★', 'Santiago de Chile', 'Bicol. Philippines', 'wonderland ....', 'Derby, KS', '17/11/14 | 07/04/15 | she/her', 'Wellington NZ Ngati Raukawa', 'Silicon Valley, CA ', 'india (delhi)', 'intp • ♌', 'Toronto, Ont', 'Liverpool', \" 'Merica\", 'HOU/DFW', 'VAAS #1⚽️', 'ᑎᕙᓯᐃᓇᒋᑯ', 'lipa city, batangas', 'Dallas Tx ', '1989 World Tour.', '#NOTW', 'Edmond OK', 'Cair Paravel, Narnia', 'Oldtown, Idaho', 'Edmond, Ok', 'memphis tn', \"c'ville\", 'Balling,TN', 'Reykjavik', 'Quezon City, Philippines', 'New Plymouth', '16.383548,120.574871', 'Chester', 'England/New Zealand', 'Popayan, Colombia', 'O K L A H O M A', 'BiH', 'CLVLND', 'MANSFIELD, TX', 'Midtable Boulevard ', 'arrow|outlander|got|flash', '♥ love land ♥', 'Bogotá. Colombia', '(its pronounced lee-uh)', 'sc ➳ caitlintrotman', 'West Mateo', 'なら', '              JetLife✈        ', 'NewMadrid, MO', 'galactic sector zz9 plural z α', 'kingston,Jamaica', 'Araluen', '870', 'Islamabad , Pakistan', 'hijas', 'Trinidad & Tobago', 'Valley Ranch, TX', 'CEBU, PH', 'ÜT: 37.443437,-122.180816', 'Memphis | Tree Hill ', 'Santiago de Compostela', 'Samoa', 'the point idaho', 'Bethel, AK', 'jenks ', '809', 'illinois', 'Norwich, Norfolk', 'Pleasant Grove, TX', 'Paris, France', '⠀⠀ ⠀⠀⠀ ⠀⠀⠀ ୨୧zaynandlouis୨୧', 'Where I Need To Be..', 'Bangalore', 'pilipinas', 'East Bay & Los Angeles', 'Saitama, Japan', 'Wellington ', 'BHARATH', 'Cupertino, CA', 'Kingston, Jamaica', 'Sapporo,Japan', 'west coast', 'Nuclear Power Pakistan', 'Nc', 'New Brunswick, Canada ', 'BackSeat Of My Jeep...', 'Oh Kay Cee', 'hogsmeade', 'Dagobah-Arnor-Gotham', 'Irving Texas', 'Los Angeles,CA', 'Number 4 Privet Drive', 'SAMOA', 'Islamabad/Shire', 'México DF', 'Trzin, Slovenia', 'IG: dyxoxo_', 'Surrounded by CRAZY ', 'I live in a bus in the woods ', 'Coastal, Southern California', 'cebu city', 'Seoul, Korea', 'Broken Arrow/Stillwater', 'Cordon, Isabela', 'ETX✈️Bethany OK', 'Northampton, England.', 'Wellington, NZ', \"MVHS '16\", 'Bootheel', 'New Delhi : India', 'New Delhi, India', 'she||her', \"Godric's Hollow\", 'Albany, New York', 'Trinidad and Tobago ', 'parts unknown', 'berhampore', '||21.10.14||', 'Kansas City', 'LA LA LAND', 'cebu city,philippines', 'Derby, Ks', 'Baguio, PH', 'santo amaro', 'in the closet', 'Colombia, sometimes hell', 'California☀️', 'LA || 3/6 || 1/11 Ricky Af', 'LA❤️', 'Ravenna', 'Herts/Beds UK ', 'here, there, everywhere', 'Düsseldorf', 'Dallas, Texas', 'Underneath the Electric Sky;✨', 'Jackson', 'In between lines', 'Turuturu School, Hawera, NZ', '33° N, 73° E', 'Silicon Valley, CA', '☆★☆', 'msa', 'Sapporo', 'OK,USA', 'Perth | Sydney | Melbourne', '19歳', 'Lapulapu City, Cebu', 'So Cal', 'ÜT: 33.915139,-117.556871', 'Santiago, Chile', '#unt19', 'Swedish in Tokyo', 'Edmond, Ok.,USA ', '⚢ ⑤ PH AR MA CY 药店 n16', 'Hoboken, NJ', 'L.A ✌', 'méxico', 'Spain, Madrid', 'Grapevine, Texas', 'New York to New Haven', 'Pretty Odd', 'University of Florida', 'en algun lugar del D.F.', 'LIVED IN A SHED WHEN U WERE 7', 'instagram: adeliinamb', 'Wellington, New Zealand ', 'East Bay, Cali', 'NIET IN SHOPPA', 'MNL', 'Central California ', 'Gibraltar', 'Wentzville, Mo', 'Youtube', 'Taipei, Taiwan/ Grunn, NL', '努力が自信につながるのよ', 'American Samoa', 'Alipurduar Jn., India', 'Kolkata/Delhi/Pune', 'Aarhus', 'Metrallo, Colombia', 'बड़हिया/Kolkata', 'Virginia Beach', 'Mahanoy City, PA', 'Saitama-Japan/ Cebu-Phils. :)', 'alex', 'La Coruña, Galicia (Spain)', 'PH ✈', 'Wah Cantonment, Pakistan.', 'Orlando FL', 'miamiliving', 'Oxford', \"New Fuckin' Jersey\", 'Cebu ', '#ShellzForBrains', 'MNL, PH', 'Guthrie, Oklahoma', '♡Jocelyn♡', 'Tetovë', 'Beautiful Malibu California', 'OAKLAND/WALNUT CREEK', 'Los Angeles ', 'Oman/UK', 'San Jose, CA.', '티아라 방, 말레이시아', 'Still waiting/5 ', 'Hello Stalker. ', 'planet Earth', '242', 'Palm Desert, CA', 'sugarhouse ut', 'Winfield, USA', 'maidstone', 'Nacogdoches, Tx', 'Hyrule - Johto', 'Bogotá', 'shayla', 'some where walking with god ', 'NYC|CEB PHL ', 'Sarajevo', 'edmond oklahoma.', 'Oakland←DC←ATL', 'Land of the Long White Cloud', 'CEBU/SINGAPORE', 'mi', 'phillipines', 'Cebu Phils', 'New Delhi', 'my location is out here', 'NM', 'trinidad, west indies', 'Not New York City, New York', 'Hampshire, UK', 'ÜT: 32.994549,-97.002152', 'Trinidad/new york', 'sandiego ', '2nd Street Samora Machel', 'Grand Forks, ND', 'Kensington', 'DoubleO Ent.', 'AGRA', 'rollercoaster', '200mph', 'Taipei Taiwan', 'I live in Hiroshima city .', 'Wellington', ' 卌 // 1D // DDL', 'The Hood', 'where is zayn ', 'Kashmir', 'Trindad', 'Northridge, Cali', 'jersey', 'Manila | Taipei | Heidelberg', 'Hampstead Maryland', 'Secret Bunker, France', 'not in Miami', 'N.Z', 'Black marsh', 'Baguio City Philippines', 'Alexandria, Egypt', 'New Delhi/Chennai/Tokyo', 'Kolkata-Jalpaiguri', 'baguio|tarlac', 'New Zealand ', 'Taranaki, New Zealand', 'Jamshedpur, India', 'Chungnam, KR / PH', 'Charlotte|Atlanta', 'आरुपोखरी-७, गोरखा', 'Bacarra, I.N. , Philippines', 'GC | NY', 'Infinity and Beyond(-ce).', 'Andromeda Galaxy', 'Banja Luka', 'Planet X', 'San Diego, Calif.', 'CYBERSPACE', 'Washington, D.C.', 'tomlinudeson ; HxrryLaurent !!', 'Manila, Philippines ', 'cimarron valley', 'Republic of Texas', 'Madrid/LasPalmasdeGranCanaria', 'BUNNY', 'Jersey, Channel Islands ', '~Chile~', 'Tejas', 'seperated from the rest ✨', 'Under the volcano ', 'Coppell, TX ', \"Coeur d'Alene, ID\", 'SGC. 731. TN', 'Out in the middle of nowhere', 'Yay Area where we get hyphy', 'Mandaue City, Philippines', 'OKC', 'CEB, PH', 'MNG', 'Eastern Standard Tribe', 'grace', 'i like sarah paulson', 'Cebu City, Philippines ', 'Busay Norway✈️', '3-22-15', 'victorville', '49th Parallel', 'Tokyo', 'Jersey', 'LA by way of the Bay Area', 'California,Venice', 'midwestt', 'vaginacraics is my louis', 'London / Hong Kong / Taipei', 'Texas Forever ', 'Shavehampton, Boughshire', 'Suva - Fiji Islands', 'Islamabad', 'San Francisco East Bay', 'True Location if out of India', 'Madrid Spain', 'Antofagasta, Chile', 'Southside,Spartanburg', 'la, ca', 'Paris,France', 'アーカム・アサイラム', 'SG|PH', 'Huntington Park', 'Mini-Hollywood, CA', 'Palm Springs, United States', 'Brooklyn • USA', 'Wichita, Ks', 'LOS ANGELES ', 'rock bottom', '51OAK ', 'New Pealand', 'douala', 'Youtube&bands&Art Prison', '~20 May 2015~', ' Stillwater', 'Wherever onions come from. ', 'Yemen, Aden', 'Kuwait ♥', 'Germany ', 'chandigarh, INDIA', 'Northridge, CA', 'india', 'the world', 'Republic of youtubelandia', 'sunderland', 'deep in the heart of Texas ', 'Gujarat.IND', 'Willow Glen, California', 'england', 'Midwest USA', 'Laoag City, Ilocos Norte', 'BAY AREA ', 'Cuernavaca, MOR, México', 'In the middle of the ocean.', 'Oklahoma City, Oklahoma', 'Ibaraki  japan', 'New Delhi, India ', 'MO', 'Snapchat/Insta : zackcondon24', 'Martin City, Montana', 'Lyric♚ゝ⊙', 'Grambling La', 'non ya business', 'hong kong ', 'Chennai, Tamil Nadu', 'SC: akatsuki_mil', 'Place unknown of no return', \"14° 35'N 121° 0' E  \", '★', '1/1', 'the army', 'Genocidistan  (no, not the ME)', '☹/5 ☹/4 +Lohanthony & Brad', 'Lordran, Post Apocolypia', '918/405', '             #sidemen ', 'NRH Texas ', 'Konohagakure', 'sabah', 'Manado', 'Aceh', 'Nelson', 'Anchorage, AK', 'El Eje del Mal.', 'F-10/4, Islamabad', '日本', 'Kolkata', '#PlayForLillieMae ', 'atlantatlantatlantatlanta', 'Manila ', 'Zach Randolph City, USA', '0/5 lol no', 'Yakima, Wa', 'Dallas-Fort Worth, Texas ', \"cruisin'\", '!foe studios with @jolomiE', 'Blackwing', 'Algérie', 'Misawa,Japan', 'Kathmandu,Nepal', 'womb', '台湾', 'PHiLiPPiNES', 'ORANGE FARM', 'Baguio City, PHL', 'Dreams', 'Irving,Texas', 'CALIFORNIA', \"Ft. GI JOE, OK/❤'s in Chicago\", 'toniannsmellie❤️', 'Kaohsiung City, Taiwan', 'Same blue waters as you', 'Soccer Fields', 'Oxford, ks', 'Dallas-ish ', 'Alicante, Idris', ' Ontario', 'Ceb,Ph ', 'creeping outside your window', '214', 'in the creamy center', 'By the doubles stand......', 'Channel Islands', 'Enid - 580', '✋seven3⃣- LnSt|4L', 'Stillwater, OK', 'Aggieland, Texas ', \"N 7°4' 0'' / E 125°36' 0''\", 'fairfax, virginia', 'Calexico,CA', 'ICT', 'My location...wait! Are you coming? Please tell me. :P', 'rtn', '™vondii', \"N 35°30' 0'' / W 97°37' 0''\", 'San Ramon CA / From Kerala', 'Alex/Cairo, Eire ,Montreal', 'Auckland, NZ', 'Kamloops, Canada', 'trash central', 'Murcia, Manchester, London', 'miami--san diego', 'Dallas TX', 'Paso Robles, CA', 'Mnl | Ceb | Leyte', 'INDIA', 'Shaker Heights', 'Owner of @_BearGames_', 'Abercairny, Britain', 'Baguio City, PH', 'traveling somewhere', \"California | HHS '17\", 'Mechelen Belgium', 'near Chicago', 'Cali ✌️', 'Santiago, Chile ', 'Ilocos Norte', 'Trinidad ', '仙台・東北大学の留学生', 'oklahoma city', 'U.S.', 'IG @theofficialchelpete', '台南市, 台灣', 'UT Martin', 'Behind a desk in cool Japan', 'Indian occupied Kashmir', 'Real Time Live Updates ', 'morioka,iwate.japan', 'anywhere but here.', 'Lagos, Nigeria', '( ͝° ͜ʖ͡°) ヽ༼ຈل͜ຈ༽ﾉ ', 'Medellin Colombia', 'Kochi, Kerala', 'ÜT: 10.645793,-61.354185', \"Masturbating near Nando's\", 'Alone and lost in paradise ', 'Makati City, Philippines', '901', 'little Fish Mississippi', 'Santiago, Chile / New York, NY', 'Caruthersville, MO', 'Kailua Kona★ | 76 South º |', 'Bay Area ', '3D Land', 'Ontario, Canada', 'London, Brighton and Tokyo', 'New Delhi- Lucknow', 'Abuja, Nigeria', 'Moore, Oklahoma', 'San Fernando Valley', 'IG : @ Marieelunaa', 'тєχαѕ', 'Vancouver, BC, Canada ', 'bay area || ig: brianapike', 'DC', 'Pampanga, Philippines', 'Dallas...for now', 'Butuan City', 'Weird City, Ohhhhhklahoma', 'Bayce ', 'Dhaka,Bangladesh.', 'Crawfordsville Indiana', 'West Coast Baby', '405 ', 'Detroit', 'Laoag, Philippines', 'ʟ﹠ʜ', 'California ✈️ Cebu', '你他媽的 | @SethSdg ❤️| 9-6-11', 'Tripura, India', 'In a honky town down in Mexico', 'Prague // Taipei // Maine', 'Davao City, Philippines', 'Lets make some memories', 'caruthersville', 'Philippines | Planet X', 'CA', 'Pearl City , Hawaii', 'Steele Mo', \"& i'm $moking$trong\", \"N 35°58' 0'' / W 95°53' 0''\", 'Oakland, CA, US', 'My mind.', 'abu dhabi,uae', 'Taipei, Taiwan & L.A., CA, USA', '#YSC #TBB', 'madrid', 'ImToxic.', 'Anywhere we got space', 'Trinidad (Caribbean) ♡', 'Christchurch, New Zealand', 'Apia, Samoa', 'The House of Black and White', 'madrid, españa', 'Coachella Valley Ca', 'Sara || Spain', 'basically memphis ✈️ dc', 'Cebu x Riyadh', 'DELHI, INDIA', 'Mumbai - New Delhi', 'Global !', 'Kolkata, India', '✈️', 'Bakersfield CA', 'chicago', 'Yeppoon Qld', 'PHILIPPINES', \"Hell ain't a bad place to be\", 'Manchester', 'PalmRaq ChiCoast ', 'Vancouver, BC', 'Land of the Unknown', '#EX4DOESITBETTER♡ ', 'Lakeland, FL', 'california, usa', 'Kiev, Ukraine', 'dallus', '☑ Verified Pokemon Trainer', 'City of my Dreams', 'Everywhere ', 'Small dorm room, Arkansauce', ' ', 'Fairfax, VA - Los Angeles, CA', 'Man on the Moon', \"18, Senior '15, 315\", 'Nagano, Japan', 'germany', 'Chile/London', 'mermaid motel ', 'I hella love Oakland!  ', 'San Fdo. Pampanga', 'Carrollton, Texas', 'Away From The World!!', 'Wichita KS', 'WWAT 09.16.14 ', 'Santa Clarita', 'non ur biz', 'Irving, TX', 'Toronto, Canada/Trinidad', 'yee haw', 'Paradise City', 'Oklahoma State University', '31.6° E , 130° N', 'Mexico , Guadalajara Jalisco', 'bukittinggi', 'Sherman, TX -- Chillwater', 'Christchurch, New Zealand. ', 'Jally Anne Nevado Calimlim', 'Tampa Bay, FLORIDA', 'Long Island', '94549', 'Las Piñas', 'Las Colinas', 'memphis,tn', 'bay area, 19', 'Bay Area, CA', 'South Gate, CA', 'where to be is i will ❤️❤️❤️❤️', 'phsg', 'Guaynabo, Puerto Rico', 'Mumbai, INDIA', 'Edmond, Oklahoma ', ' Espírito Santo', 'Republic of Srpska (Bosnia)', 'j townnn', 'california', 'Trinidad & Tobago ', 'Ga.', 'Lisbon, London, Leicester ', 'Washington DC ', 'Cebu, Phillipines', 'BAGUIO, CITY', 'İstanbul', 'Cupboard under the stairs', '731 ', 'Washington State', 'IG:madpatricia SNPCHT:madypaty', 'everywhere!!!', 'somewhere over the rainbow', 'IIT Guwahati', 'Tokyo .Japan .', 'Stillwater, Oklahoma', 'ÜT: 33.635032,-112.054252', 'Kanpur, UP, India', 'bit.ly/PeachesELM', 'Alaska XD', 'london', 'Cyprus // Zypern', 'UTP // Malaysia ', 'Seoul,korea', 'oklahoma state chi omega ', 'L R H/4            chicago', 'OAK ', 'Starling City', 'add me on myspace ', 'Calahorra-Pamplona', 'Jersey. Channel Islands', 'Graceland. ', 'Kaohsiung, Taiwan', 'Katy, TX / Stillwater, OK', 'Bloody Hell', 'in that order', 'Astral Plane, CA', ' L.A ✈️', 'Los Santos to Downtown Tokyo', 'Oakland, California USA', 'A place called Texas', 'Manila, Philippines', 'Megan', 'B-Town', 'Iraklio GR - Έρμηςκαϊλ ΓΕ', 'Martinborough / Wellington ', 'Crete , Greece', 'Kolkata  ', 'Jersey Channel islands UK', 'bay area', 'Tulsa/Stillwater', 'Steele, Mo', 'eroomeL ', 'south yorkshire, uk', 'Derby', 'Lima-Perú // 리마 - 페루 ', 'MFFL • Rangers • Texans', \"Coeur d'Alene, Idaho\", 'Dunedin, New Zealand', 'Twitch', 'معلِم', 'Old and rusty continent', 'Houston', 'Mokoia, Taranaki', 'Cali ⛅️', 'louisliam/5', 'San Diego', 'laalalalalalalalalalaalalalla', 'Sherman Oaks, California', 'right there', 'Buffalo,NY & La Vega, Colombia', 'The City of Townsville', 'Haida Gwaii', 'Dallas Tx', 'Online', 'Olavarria', 'always on the move ', 'Dhaka, Bangladesh', 'Madrid, Latam, ... who knows!', 'Wherever my spirt takes me', 'Alexandria, Egypt ', 'Paphos, Cyprus', 'in Deez NutZ', 'australia', 'Bay Area', 'Somewhere in Neverland', 'White Rock, BC, Canada', '#tsunamimob', 'heaven ✈️✈️', 'Bella Union, Uruguay', 'san lorenzo', 'Vallejo, CA', 'Madrid, Spain (-5)', '10/6/13', 'Prov⚓️R.I', 'Kansas✨', 'Kuwait,,,or,,,Egypt', 'GIKI', 'B.A.P', 'Scotland', 'Ottawa, Canada', 'pasadena', 'América', 'ÜT: 10.32604,123.887962', 'Gibsons, BC', 'Trinidad and Tobago  ', 'Everett', 'Amphoe Srinagarindra', 'Granada Hills, CA', 'The Land of Dignity, Egypt.', 'CDA Idaho', 'mcneil soccer', 'CEB × CGY • Hogwarts', 'saw 4/5', 'Trinidad/Miami, FL', '9.11.14 & 7.9.15', 'in exile ', 'Cali', 'Banna | Baguio City', 'Team Prophets', 'patrickdempsea', 'Columbia, MO → OKC', '(901)', 'oklahoma', 'Raipur', 'Howrah,West Bengal,India', 'Path To Eternal Life ❤️', 'Ph', 'Error 404 :not found', 'Dhaka', 'Albay,Philippines', 'Woods ', 'Elsewhere, New Zealand', 'lakhimpur kheri', 'Dallas, Texas .', 'lowkey✨', '73025', 'On the cloud somewhere.', 'Neverland', 'London. Newbury Park', 'TEXAS', '  shit hole', 'Alicante, Idris.', 'Wellington, New Zealand', 'Louisville Ky', 'Jersey, Channel Islands', 'Islamabad Pakistan', 'Kolkata, West Bengal, India', 'PARIS ▲ IG: @hishaneeey', 'Dhaka , Bangladesh', 'youtube.com/jose13q1', 'norman', 'Taipei, Taiwan', 'Deep blue sea', 'english name*cory 20years old', 'snachat me ~ christiebailey', 'EF', 'Timelord in a cupboard', 'WI/OK ', 'Cairo/Melbourne', 'NO FOLLOWBACK! ', 'Demacia', 'Montreal & Xania', 'Behind you.', 'your nearest dancefloor', 'Manille ♥', '#chansoo #krishan ♡ ', 'Hawaii, USA - Tokyo, Japan', 'outchea', 'ÜT: 1.28702,124.88431', 'Rawalpindi', 'san francisco ', 'On My throne ', 'Bhubaneswar, Orissa ', 'Greater Toronto Area', 'Camp Nou', 'Spain and some day NY ', 'Vancouver, BC, Canada', 'Ubec', 'NZ', 'FL', 'Idaho | lcrevolution.com', 'Arima, Trinidad & Tobago', 'Dallas Texas most days', 'Argentina & Spain', 'Tijuana, Mexico', 'Rocky Point, Lawnguyland', '3/4 | 614,6 km', 'Alpha Tau Omega ', 'Chandigarh', 'UK/Cyprus', 'Definitely Not Earth!', 'Antártica Chilena, Chile', 'Bootheel ', 'muscat', 'Below The Heavens', ',Georgia', 'Western Australia', 'LA, California', 'los angeles.', 'j e a c k s   ', 'TN', 'http://i.imgur.com/IHxzxrg.png', 'md, cher & ap rip', 'CNBLUE ❤️ PSH', '847', 'Torrance, CA', 'ny.', 'EAST CHARLOTTE NC ', 'Okie Girl', 'CHILE, TAIWAN, NYC', 'Pangasinan/Manila', 'The 316', 'Albatera, Alicante, Spain', '•5/5 Access•Phoebe follows•', 'Coachella ', '#NCCU16', 'Imperial, California', 'Azad Kashmir', 'Christchurch City, New Zealand', 'deija', 'New England', 'Corpus ChristiTexas', 'Sendai city', 'Philippines ', 'santa barbara', 'Talavera de la Reina', '1/3 pauljac3 cult', 'City of Pines', 'BJW III', 'Honeymoon Avenue', 'Edmonds, WA ', 'Tomohon, Indonesia ', 'IG d.aniquemegan ', 'WORLDWIDE', 'Chicago & Madrid', 'Los Angeles, CA ', 'Cebu ph', 'Gurgaon', 'New Delhi ', 'Enid, Oklahoma, USA', ' 〒100871', 'Hi.', 'the coast road ', 'snapchat: me A1_student', 'new zealand', 'Leyna ', 'Probably reading fanfics', 'Vallejo', 'Stillwater', 'South T.R.N.I.N.D.A.D', 'Chicago and Oklahoma City', 'Sunny Cebu , Ph ', 'Lima', 'Calibased', 'San Francisco Bay Area', 'MARK 9:23 ', 'Sydney ', 'Edmond', 'ISI-AmA-BaD , AL-BAKHISTAN.', 'Spokane, Wa.', '東京', 'ilocos, ph', 'The Seven Kingdoms', 'UK, Norfolk', 'Earth... occasionally', '6047', 'Seattle ', \"i'll be where ever INFINITE is\", 'Surigao City, Caraga', \"I'm 6'5 stop it.\", 'españa', 'Trinidad and Tobago!', 'London ', 'Upstate New York', 'Aotearoa ', 'Sunny California ', 'Mammoth Lakes, CA', 'Bombay', '2501 PH X Dubai, U.A.E', 'located in flower hell', 'OGOC', 'Bautista, Pangasinan', 'KiwiLand', 'Maple Ridge', 'FAR FAR AWAY LAND', '- Jewel of Kedah -', 'Moncton,NB', 'South Florida', 'Northern California', 'OKC⚡️', 'Oklahoma City,OK', 'CEB | PHILS', 'bayarea', 'Trinidad, the Caribbean', 'Makati City, National Capital ', 'Diamond Here❤️| DeDe Was Here | Cynthia Too', 'Charsadda/Naya KPK', 'Oakland, Cali', 'Baltimore,MD', '===Taiwan===', 'México', 'Peterborough', 'Lima - Perú', 'beijing, china', 'bad dream hotline', 'St Cloud, MN', '| Bay Area | ½ #ConwayTwins |', 'BAY❤️AREA', 'DLSU Taft', 'Guernsey_Channel Islands_UK', 'México. ', 'Scarsdale, NY', 'Memphis Tn.', 'blue gansey', 'Balanga City, Bataan', 'indonesia-malaysia', 'TRI', 'Bangladesh,Asia', 'IMAGINATION', 'Te Whanga-nui-ā-Tara', 'El Salvador / Colombia✈️', \"harry's smile makes me eternal\", 'Cebu City, Central Visayas', 'MGA, NA', 'Las Condes, Santiago, Chile', 'Just Around the Riverbend! ', 'Los Angeles.', 'Montego Bay, Jamaica', \"L'algerie\", 'Descended from Kings!', 'i like sasha, a bit too much x', 'pigerihan', 'California ', 'Polokwane', 'Shinsekai || ❋砕氷船❋', 'In My Bed.', 'In My House!!! └A ', 'SCV', 'Pune', 'Somewhere in Florida', 'CEB PHL', 'San Antonio, Texas', 'San Jose, California', '台北市, 台灣', 'Ermita, Manila', 'France.', 'Brighton', 'Wellington - New Zealand', 'east bay, california', 'Trinidad and Tobago', 'China/Xiamen-Türkiye/İstanbul', 'Secunda', 'Dallas', 'Utopia', 'Texas Now/Nashville Eventually', 'nowhere ', 'New zEALAND', 'City of Devils, City of Angels', 'kross • ballin', 'Manado,Indonesia', 'Johannesburg', 'Varanasi ( PM Constituency)', ' ☻☻☻☻☻☹/6', 'Oh-Maaaan', 'The Valley', 'she/her ★ they/them', '☯', 'Madrid, Spain', 'Oakland , WE$TSiDE ', 'Wichita, Kansas #ICT', 'Cebu City ', '3540-0645-9447 ign Gliscor', 'Madrid, ES', 'LAS VEGAS', 'Ubay, Bohol, Philippines', 'SHS-AdC || USC-TC', 'imaginationland', 'Northridge, California', 'Apni Auqat main', '台北', 'Costa Mesa, CA', 'marie is my mom ', 'location: wherever theres food', 'Darmstadt, Germany', 'San Frantastico, CA', 'otra metlife & gillette', 'instagram @_Asia_Renee', 'Claremore, OK', 'ประเทศไทย? ', 'check my channel', 'okinawa x california ', 'WorldWide', 'natural habitat', ' screen ebooks', 'Almansa - AB', 'Cebu City. PH', 'Memphis, Tennessee', 'Parsons / McKenzie', '神奈川県横浜市', 'Everywhere▲...Track Me Down', 'wellington', 'NY,NJ & SCL', \"doesn't matter \", \"Oakland A's & Buffalo Bills!!!\", 'The strange Indian fangirl tbh', 'South Okanagan, BC', 'Cebu, Philippines', 'R2 RT4 DM1', 'Trinindad ', '3rd Estate ', 'ÜT: 19.180948,72.841837', '662. ✈ 214.', 'Kathmandu ', 'New Madrid , Mo', 'Imperial ,CA', '◇Oklahoma', 'Maraval, Trinidad and Tobago', 'larina and fashion ', 'The Shire.', 'Somewhere in Cebu City', 'Belmont, Trinidad and Tobago', 'Patna', 'in jennifer lawrences womb', \"in Chanyeol's heart\", 'Edmond, OK', 'L.A.', '7⃣3⃣1⃣', \"THS '15 | HOOD '19\", 'Oklahoma city', \"Dean's Bed, New Zealand\", '東京都', 'Bicol, Philippines', \"6'3 Lookin like a tree\", '-trιnιdαd&tσbαgσ♥', 'Liverpool, UK', 'Calatayud, Zaragoza', 'JAPANESE CHOCOHOLIC ', 'Hayward, CA', 'america', \"Coeur d'Alene\", 'OHIO', 'Montpelier, Vermont!', 'rest in peace cedric ❤️', 'Lahore, Pakistan', 'Las Vegas, Nevada, USA', 'southern california', 'Dallas Texas', 'Balikpapan - Manado Siamo Noi', 'Kathmandu', 'The Bay Area, CA', 'locals only, CA', 'Republic of the Philippines ', 'Islamabad,PK', 'Cebu City , Philippines', 'Kathmandu, Nepal', 'Colombia ', 'Gandhinagar, Gujarat', 'STAYER', 'Lower Hutt, New Zealand', 'Tarsus Club ', 'wilmington', '#UA BAMA BACHELORETTE', 'Okinawa, Japan', 'Planet Celadon', 'edmond', 'NEW DELHI INDIA', 'SMA N 3 Batusangkar', 'Nicaragua ♥ (Monica af)', 'Juneau, AK', 'Hutchinson, KS ', 'SF Bay Area', 'World-wide', 'East Bay', 'islambad', 'ℕ.AℤTLAℕ∷', 'Keizer, Oregon', 'Aurora Province | Baguio City', 'Sophia Antipolis, France', 'Washingtion State', 'Cebu', 'Tokyo, Japan', 'MEMPHIS', 'Beatin on my chest', 'cary nc', 'Winfield, Kansas, USA', 'one direction, 5sos, BaileyM', 'Tortola, Virgin Islands', 'Christchurch', '#freePalestine - rip paul', '#Coke', ' Dhaka, Bangladesh', 'Irving', 'The Northern Marsh', 'cebu ', \"deep on one direction's ass \", 'Melbourne, Australia ', 'WVC', 'Where the sun shines', 'Santa Clarita - Santa Barbara', 'Kolkata,India', 'Los Angeles, California', 'where my heart is', 'Larry ♥', 'LA Raised Me', 'Bay Area ✌ ', 'London/Aberystwyth', 'memphis ', '☾☼In my world☼☾', 'everywhere', 'philippines', 'y u k o n ', 'duwang city, philippines', 'Cúcuta - Colombia', 'Tucson, Arizona', 'Squamish, BC, Canada', 'cairo', 'Alicante', 'Hayden, Idaho', 'SoCal ', 'Buffalo N.Y.', '1/6 • #LaurenDefenseSquad', 'Bogotá, Palombia', 'Dakbayan sa Sugbo, Philippines', 'DEMACIA', 'Cedar Rapids, IA', 'South Bay, CA', 'Bangladesh, Dhaka.', 'w. drinksomeke ', 'dad ➡️', 'Noakhali, Bangladesh.', 'START SOMEWHERE', '2600', 'Bahawalpur', 'Wardrobe to Narnia', 'Cairo, Egypt', 'koots roots ', '3/15 ❤ Connecticut, USA', 'New Zealand but soon Amsterdam', 'virginia ', 'AC ', ' DallasTejas!', 'l0ml/5 • powerpuff girls', 'Philippians 4:13', 'PÊCHE IS BAE ❤️', 'Eating Pizza', 'Cebu City, ', 'Lucknow, India', 'Oklahoma City', 'Johannesburg & Vaal', 'Lima, Peru.', 'KP|AGB|BTR', 'Oakland, CA', 'the bebop', 'Roleplaying', 'Peterborough Utd', \"Trinidad, C'bean\", 'SOMEWHERE IN THE UK I THINK', 'Dubai', 'Adolescence', \"it's a u.s. history joke.\", 'Tonga ', 'Opelika AL', 'uco|sigma kappa✨', '06.09.12 | CA | 07.11.15', '|| || |||| |||| || ||', 'Islamabad Pakistan. ', '757 • 706', 'ヽ༼  ͡°╭͜ʖ╮͡°  ༽ﾉ ur bum', 'Kochi', 'Ras Al Khaimah | Dubai - UAE', 'Quezon City', '1/6', 'Trinidad And Tobago', 'Enid, Oklahoma', 'In the hell.', 'pakistan ', 'Bulacan | Manila', ' Hawaii', 'texas', 'Univ.-Casa-Casa-Univ. ', 'Grand Prairie, TX', 'Trinidad ♡', 'Taiwan, Taipei', 'Storybrooke Maine', 'second star to the right', \"angel's city\", 'San Diego, California, U.S.A.', 'marshall oklahoma', 'sayville/SUNY merrry-times', 'MV', 'The world', 'New Delhi,India', 'phil | suck squad', 'Kota Mangga | Patrol | Indramayu | Jawa Barat', 'zoe', 'okinawa', 'Sandpoint, Idaho', 'All the love. H', 'San Franscisco Bay Area', 'Singapore, San Jose & Houston', 'MAD', ' Alex//17//he/him+they/them', 'Comanche, Oklahoma', '87', 'North Shoreview, San Mateo, CA', '#450 #Québec #SSA', 'ph', 'Lapu lapu city, Cebu', 'Lucena city', 'Gibson County', 'Viridian City', 'CEBU, PHL', 'class clown ', 'Los Gatos, CA', 'Dallas, Tx ', 'Hennessey, Oklahoma ', 'Cali bruh ', 'Norman, OK', 'Rolling Hills, CA', 'the cursed land', 'Bangkok & Taipei', 'Taguig City, Philippines', 'North Vancouver, BC', 'Manila', 'CT', 'lacey, Washington', 'ÜT: 10.640356,-61.280644', 'hoeless, PI', 'Somewhere,Everywhere,Anywhere ', 'Dallas, TX, USA', 'Egypt, Cairo', 'Two Suitcases', 'Stratford, NZ', 'Taiwan  Kaohsiung', 'pr • z • m • skrlx ', 'Cluj Napoca, Romania', 'Wichita, Kansas', 'Disneyland', 'Hayden, ID', 'Spain-Harveytown', 'nz', 'Play the game right.', 'Moradabad/Bangalore', 'Competitive Pokémon Master', 'Dallas, Texas... For now..', 'north hollywood ca', 'Cloud 9', 'Memphis', 'sunflower kid', 'Pakistan ', 'University of Oregon // SJ', 'Trinidad, West Indies', 'Mirpur AJK / Islamabad', 'SF', 'Babe Area CA', 'Sippy Sherbet', 'san diego', 'MN/LA ', 'Queen City of the South', 'cambridge ma', 'Black Forest ', 'Palm Springs, California', \"Hunter's dream \", 'Oldham', 'A Metro-Detroit Hell', 'Nature Of Zion', 'Compton, Ok', 'Sumida, Tokyo, Japan', '♥♥ Shah Rukh Land ♥♥', 'Pokelahoma', 'Los Angeles, Californiaaa', 'jersey, c.i.', 'Home', 'rp / fl', 'Murcia', 'LA squad', 'Corvallis, OR', 'Samantha ❤️', 'earth', 'Karachi, Pakistan', 'twenty one pilots |-/', 'Okinawa ', \"the winner's circle \", 'Frozen City, Canada', 'Republika ng Pilipinas ', 'Leave me alone, Tx.', 'Susanville CA', 'WP: @drwhogivesadamn', '✈ South Korea', 'Beirut', 'HOUSE', 'Los Angeles - الكويت', '(south) bay area', 'NWTS', \"Celadon City's Strip Club\", 'nah', 'ringwood ok', ' LA | LMU', 'New Zealand (Nelson) ', 'Al sur de Madrid', 'mental hospital', 'bootheel', 'Hotel California', 'Idaho Tatertot', 'Cairo, London', '127.0.0.1', 'LaFa', 'in da most fabulous place', 'Barrio de la Estrella, Madrid', 'armorel, ar//sophomore', 'SMASH 4 CASH DOJO', 'Konya, Turkey / New Delhi, IND', 'League of Legends', 'Los Angeles , California', 'old Trafford ', 'NY/NJ', 'NeverLand .', 'closer than you imagine', 'Jersey City, NJ', 'Screwston, Texas', 'In the Gym', 'Punjab,India.', 'Solar System, 14 billion years', 'in a nutshell', ' KANEHIDE HELL ', 'Crespo', \"in a place there's air\", 'in my fridge 25/8', 'Cebu Philippines ', 'Christchurch, NZ', 'new delhi', 'liam wtf let me live', 'Los Angeles/San Jose', 'Im Living with @harrystyles ', 'handwritten', 'The Beach.', 'Edmond, Oklahoma', 'Fresno,California', 'on my labtop', 'sainte luci', 'Auckland, New Zealand', 'GoChun', 'trinidad & tobago', 'bed', 'Madrid, Spain ', 'Bay Area, CA ', 'classified', 'Compton, Ca  ', 'luv tina&mikayla', 'Atlanta, Georgia', 'Walk of Fame', 'the Bay, CA USA', 'Twitter Prime ', 'Grand Praire', 'Farmers Branch', 'San Borja, Peru', 'Alaminos City, Pangasinan', 'trinidad', 'RVA/Cola', 'the U.S.S. Enter-Guys', 'Weed City', '2nd star to the right', 'Madrid, Madrid', 'Storybrooke ', 'TiRoL / Austria ', 'Gaza - Palestine ', 'North Texas', '           PH', 'Philippines x Korea ℱℴℓℓℴω ', 'Lima, Perú.', 'Westcoast is the BEST coast', 'Mandaue City, Cebu', 'Design 4 Life', 'México, D.F', \"since '00\", 'WorldMyHome-MadridMyBasecamp', 'The Ridge / Fontana, CA', 'Washington, USA', \"Oklahoma State University '15\", 'The zone. ', 'Mars', 'Spain ✈ Philippines', 'NMMO ', 'Orange, CA', 'Nueva Ecija × Baguio', 'oklahφΜa state', 'Bulacan, PH', 'DallasTX', 'Edmonton, AB, Canada', 'iPhone: -41.292191,174.778397', 'Anchorage, Alaska', 'Sandpoint Idaho', 'Deal, Kent', 'inside a tauntaun', 'San Francisco (Bay Area) CA ', '- Class of 2015 -', 'Jersey, Channel Islands, UK', 'Lower Hutt City, New Zealand', 'Kapiti, New Zealand ', 'PH or Twitter', 'Lea ❤️', 'Los quiero mucho chichos !', 'kolkata', '10 ring', 'Ploiesti,Romania', 'Los Angeles, Ca', 'Brooklin, Ontario', '92:48 • Sergio Ramos', 'اسلام آباد, پاکستان', 'Peshawar, Pakistan', 'Bombay ✈ Delhi NCR', 'Durban.', \"I'm Getting There...\", 'LDN, TOK, NYC, SYD, WOLVO.', 'Mexico - SD - some airport ', 'Leeds', '    On The Field ', 'Jersey - London', ' coachella valley', 'King of Diamonds \\ue01d', 'Verified account', 'JSY', 'Paris', \"Moto  |  Texas A&M 19'\", 'IG: liz.ph', 'PH', 'kathteammates • KATHRYN', 'oakland', 'Long Beach', 'Москва', 'Hirosaki, Aomori, Japan.', 'Bay Area, California ', 'Middle Earth', 'PH•DXB', 'Somewhere over the rainbow', 'WretchedSwamp of Liberal, Ca', 'Pangasinan x  Baguio City', '【GuardianOfDeath】', 'Wellington NZ', 'Pune, Maharshtra , India', 'MEE† Δ† LAKE⛳️', 'Legazpi City, Philippines', 'NMCC', 'New Jersey ✈ California', 'GYM', 'Right behind you. AHHHH!', 'STL', 'PORTO ALEGRE/RS', \"khalil's following list 3·7·12\", 'A land far far away.', 'Toronto, ON', 'Pacific NW', 'dtx', '東京 Tokyo (Japan)', 'Oton, Iloilo, Philippines', '-', '東京とロシア', 'Los Angeles, Ca. ', 'In your computer', 'islamabad', 'luna', 'cloud nine ', 'instagram : kaithlene', 'Outer Banks, NC', 'Bay Area, California', 'London, England', 'whatsoknot is my bae ♥ laris', 'DFW(irving)', 'Islamabad.Peshawar.Jeddah', 'Bradford, Tennessee ', 'The V', 'Northern Oklahoma', 'grand rapids to da bay area', 'Sparta,Greece', 'Dallas,TX', 'ig: GraziellaMaeee', 'SWERVE BETCH :*', 'PHL', 'La Quinta, CA', 'Los Angeles - SFV', 'Lahore Pakistan', 'Digital Nomadic Lifestyle', 'Karachi', 'Peterborough/London UK & USA  ', 'Polán (Toledo)', 'OKC, OK', 'Santa Barbara', 'Chiguayante / Concepción, CL', 'NYC + Bombay + Madrid', 'AZ', 'space. (hopefully)', 'Cebu, Philippines ', 'right next to the Money!', 'by the seasheo ', 'Ranchi, India', 'Mystic Falls // Chilensis', 'married to @KickassGarwin', 'Southern California', 'm ☆, r ☼, & a☽ • fabclq • 723', 'thg marvel ', \"'Murica\", '~Dhaka~Bangladesh~', 'Chicago/Niles', 'n_  fl_x  z_ne', 'Guernsey', 'Cairo,Egypt', 'Fairbanks, AK', 'alaska', 'Pagadian City, PH', 'Bristol', 'Yokohama Japan', 'Varanasi, India', 'Baguio City | Philippines', 'Delhi, India', 'aurora/barrie.', '✼̥*ೄ ', 'Kenai, Alaka', 'Cebu City, Philippines', '1313 Mockingbird Ln.', 'Faridabad ', 'Ames, Iowa', 'japan', 'Richmond, CA', 'Pearl of the Orient. :D', 'Shire', 'megalomaniac', 'New Zealand.. or possibly lost', 'Out in the great wide open', 'Sydney or Tokyo', 'Norman, OK/Dallas, TX', 'Honeymoon Ave.', 'okc ', 'Stay hungry, stay foolish!', 'CEBU~PH Islands ⚡️', 'Bohol,philippines', 'Fairfield—Athens', 'Lahore', 'City of Angels', 'Wichita', 'Old Avery Tavern ', 'Dallas, Tx', 'Donegal , Ireland !', 'Novi Sad, Vojvodina', 'Taipei', 'Talisay, Cebu', 'Lagos,Lagos, Nigeria', 'Silver Spring, MD', 'Baguio City', 'Ventura, CA', 'Coming to a stage near you :]', 'Medellín, Colombia', 'santiago, Rep.Dom', 'Darjeeling, India', 'Miyagi,Japan', 'OKC/Boston', 'everywhere ', 'Calcutta, India.', '221b Baker Street, TARDIS', 'Sherman Oaks, CA', 'España', 'UK ', 'Behind you. (DFW)', 'updating location...', 'Bled', 'land of soca and doubles ', 'Harford rd #freeed', 'Pixie Hollow', 'Toronto/Windsor ', 'Alcántara ', 'Smashville', 'wherever abigale is', 'L.A. CA USA', 'Asia♥', 'iris ; unknown', 'elyssa', 'Apple Inc.', 'HIGHFISH', 'Irving, Texas', \"hell's kitchen\", '//SFV //818 //VALLEY LIFE', 'Taoyuan City, TAIWAN', 'Eat a lot. Sleep a lot. ☼', 'Probably on the Track ', 'Taichung, Taiwan', 'ig//sky.x', 'Somewhere busy eating Randy', 'Walnut Creek, CA', 'Greece (crete)', 'Central OK', 'fmrly brunch tip guy', 'Aberdeen', 'Las Condes, Región Metropolita', 'The Trash Throne ', 'North idaho', 'Wichita,KS ', 'san diego, california', 'Ahmedabad, India', 'Texas ', 'WWA 9/16/14 5SOS 10/13/14', 'watch videos i made ↙️', '4/6', 'Eastern USA', \"Harry's heart\", 'I love Jesus :-)', 'mafiosi', 'With My Little Angel', 'Memphis, Tn', \"Trafalgar Law's Laps\", 'San Francisco Bay Area, CA', 'Milan,Tn', 'Sylmar', 'North Toraja, South Sulawesi', 'Madrid', 'Indonesian, north sulawesi', 'https://retrospring.net/straub', 'Pleasantville, Ca ', 'Toledo', 'middleburg, florida ☀', 'san pedrodise', 'AUS - PHL', 'Around the worldمبيعات السيارا', '909', 'United Kingdom. ', 'TX'}\n"
          ]
        }
      ]
    },
    {
      "cell_type": "markdown",
      "source": [
        "Most of the nonsensical locations are by Genuine people"
      ],
      "metadata": {
        "id": "CA5le3QudTvm"
      }
    },
    {
      "cell_type": "code",
      "source": [
        "# Count occurrences of each location for each type\n",
        "location_counts_by_type = df3.groupby('Type')['location'].value_counts()\n",
        "\n",
        "# Get the top 10 most common locations for each type\n",
        "top_10_locations_by_type = {}\n",
        "for account_type in df3['Type'].unique():\n",
        "    top_10_locations_by_type[account_type] = location_counts_by_type[account_type].nlargest(10)\n",
        "\n",
        "# Print the top 10 most common locations for each type\n",
        "for account_type, top_locations in top_10_locations_by_type.items():\n",
        "    print(f\"Top 10 most common locations for {account_type}:\")\n",
        "    print(top_locations)\n",
        "    print()\n",
        "\n",
        "# Count the number of non-null locations for each type\n",
        "non_null_location_counts_by_type = df3.groupby('Type')['location'].count()\n",
        "\n",
        "# Print the number of non-null locations for each type\n",
        "for account_type, count in non_null_location_counts_by_type.items():\n",
        "    print(f\"Number of rows with non-null location for {account_type}: {count}\")\n"
      ],
      "metadata": {
        "colab": {
          "base_uri": "https://localhost:8080/"
        },
        "id": "qWm22k9ycl74",
        "outputId": "16aea28e-6dbe-47e0-94f8-7408cef4400f"
      },
      "execution_count": 19,
      "outputs": [
        {
          "output_type": "stream",
          "name": "stdout",
          "text": [
            "Top 10 most common locations for Bot:\n",
            "location\n",
            "Roma                    104\n",
            "Twitter                  88\n",
            "Milano                   63\n",
            "Columbia, SC             51\n",
            "Italia                   43\n",
            "Milano                   40\n",
            "Orlando, FL              40\n",
            "Greater Hartford, CT     40\n",
            "Torino                   39\n",
            "Norfolk area, VA         38\n",
            "Name: count, dtype: int64\n",
            "\n",
            "Top 10 most common locations for Genuine:\n",
            "location\n",
            "Philippines            26\n",
            "Dallas, TX             21\n",
            "India                  19\n",
            "Trinidad and Tobago    16\n",
            "Los Angeles            15\n",
            "New Zealand            15\n",
            "Madrid                 15\n",
            "California             13\n",
            "New Delhi              13\n",
            "Baguio City            13\n",
            "Name: count, dtype: int64\n",
            "\n",
            "Number of rows with non-null location for Bot: 2543\n",
            "Number of rows with non-null location for Genuine: 2365\n"
          ]
        }
      ]
    },
    {
      "cell_type": "code",
      "source": [
        "print(len(unique_locations_bot))"
      ],
      "metadata": {
        "colab": {
          "base_uri": "https://localhost:8080/"
        },
        "id": "SJjXmsW8dlST",
        "outputId": "c55ea90c-c117-44cf-d338-866bc87f10c4"
      },
      "execution_count": 20,
      "outputs": [
        {
          "output_type": "stream",
          "name": "stdout",
          "text": [
            "887\n"
          ]
        }
      ]
    },
    {
      "cell_type": "code",
      "source": [
        "print(len(unique_locations_genuine))"
      ],
      "metadata": {
        "colab": {
          "base_uri": "https://localhost:8080/"
        },
        "id": "lFN2BmhzeM5G",
        "outputId": "708f781b-2ed9-4aa2-9242-c872577ba241"
      },
      "execution_count": 21,
      "outputs": [
        {
          "output_type": "stream",
          "name": "stdout",
          "text": [
            "1796\n"
          ]
        }
      ]
    },
    {
      "cell_type": "markdown",
      "source": [
        "Genuine accounts use more varied locations compared to bots."
      ],
      "metadata": {
        "id": "LNskIalAeWDl"
      }
    },
    {
      "cell_type": "code",
      "source": [],
      "metadata": {
        "id": "LfOLzJhwgNQM"
      },
      "execution_count": null,
      "outputs": []
    }
  ]
}