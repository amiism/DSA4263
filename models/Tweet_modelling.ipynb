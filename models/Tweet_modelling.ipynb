{
 "cells": [
  {
   "cell_type": "code",
   "execution_count": 131,
   "metadata": {},
   "outputs": [
    {
     "name": "stdout",
     "output_type": "stream",
     "text": [
      "Collecting Seaborn\n",
      "  Downloading seaborn-0.13.2-py3-none-any.whl.metadata (5.4 kB)\n",
      "Requirement already satisfied: numpy!=1.24.0,>=1.20 in /Library/Frameworks/Python.framework/Versions/3.12/lib/python3.12/site-packages (from Seaborn) (1.26.4)\n",
      "Requirement already satisfied: pandas>=1.2 in /Library/Frameworks/Python.framework/Versions/3.12/lib/python3.12/site-packages (from Seaborn) (2.2.1)\n",
      "Requirement already satisfied: matplotlib!=3.6.1,>=3.4 in /Library/Frameworks/Python.framework/Versions/3.12/lib/python3.12/site-packages (from Seaborn) (3.8.4)\n",
      "Requirement already satisfied: contourpy>=1.0.1 in /Library/Frameworks/Python.framework/Versions/3.12/lib/python3.12/site-packages (from matplotlib!=3.6.1,>=3.4->Seaborn) (1.2.1)\n",
      "Requirement already satisfied: cycler>=0.10 in /Library/Frameworks/Python.framework/Versions/3.12/lib/python3.12/site-packages (from matplotlib!=3.6.1,>=3.4->Seaborn) (0.12.1)\n",
      "Requirement already satisfied: fonttools>=4.22.0 in /Library/Frameworks/Python.framework/Versions/3.12/lib/python3.12/site-packages (from matplotlib!=3.6.1,>=3.4->Seaborn) (4.51.0)\n",
      "Requirement already satisfied: kiwisolver>=1.3.1 in /Library/Frameworks/Python.framework/Versions/3.12/lib/python3.12/site-packages (from matplotlib!=3.6.1,>=3.4->Seaborn) (1.4.5)\n",
      "Requirement already satisfied: packaging>=20.0 in /Library/Frameworks/Python.framework/Versions/3.12/lib/python3.12/site-packages (from matplotlib!=3.6.1,>=3.4->Seaborn) (24.0)\n",
      "Requirement already satisfied: pillow>=8 in /Library/Frameworks/Python.framework/Versions/3.12/lib/python3.12/site-packages (from matplotlib!=3.6.1,>=3.4->Seaborn) (10.3.0)\n",
      "Requirement already satisfied: pyparsing>=2.3.1 in /Library/Frameworks/Python.framework/Versions/3.12/lib/python3.12/site-packages (from matplotlib!=3.6.1,>=3.4->Seaborn) (3.1.2)\n",
      "Requirement already satisfied: python-dateutil>=2.7 in /Library/Frameworks/Python.framework/Versions/3.12/lib/python3.12/site-packages (from matplotlib!=3.6.1,>=3.4->Seaborn) (2.9.0.post0)\n",
      "Requirement already satisfied: pytz>=2020.1 in /Library/Frameworks/Python.framework/Versions/3.12/lib/python3.12/site-packages (from pandas>=1.2->Seaborn) (2024.1)\n",
      "Requirement already satisfied: tzdata>=2022.7 in /Library/Frameworks/Python.framework/Versions/3.12/lib/python3.12/site-packages (from pandas>=1.2->Seaborn) (2024.1)\n",
      "Requirement already satisfied: six>=1.5 in /Library/Frameworks/Python.framework/Versions/3.12/lib/python3.12/site-packages (from python-dateutil>=2.7->matplotlib!=3.6.1,>=3.4->Seaborn) (1.16.0)\n",
      "Downloading seaborn-0.13.2-py3-none-any.whl (294 kB)\n",
      "\u001b[2K   \u001b[90m━━━━━━━━━━━━━━━━━━━━━━━━━━━━━━━━━━━━━━━\u001b[0m \u001b[32m294.9/294.9 kB\u001b[0m \u001b[31m327.6 kB/s\u001b[0m eta \u001b[36m0:00:00\u001b[0ma \u001b[36m0:00:01\u001b[0m\n",
      "\u001b[?25hInstalling collected packages: Seaborn\n",
      "Successfully installed Seaborn-0.13.2\n",
      "Note: you may need to restart the kernel to use updated packages.\n"
     ]
    }
   ],
   "source": [
    "%pip install Seaborn\n"
   ]
  },
  {
   "cell_type": "code",
   "execution_count": 138,
   "metadata": {},
   "outputs": [
    {
     "name": "stdout",
     "output_type": "stream",
     "text": [
      "\u001b[34mApplications\u001b[m\u001b[m               \u001b[34mMusic\u001b[m\u001b[m\n",
      "Combine_datasets.py        \u001b[34mPictures\u001b[m\u001b[m\n",
      "\u001b[34mDSA4263\u001b[m\u001b[m                    \u001b[34mPublic\u001b[m\u001b[m\n",
      "\u001b[34mDesktop\u001b[m\u001b[m                    Tweet_modelling.ipynb\n",
      "\u001b[34mDocuments\u001b[m\u001b[m                  final_dataset_combined.csv\n",
      "\u001b[34mDownloads\u001b[m\u001b[m                  final_dataset_ga.csv\n",
      "Fraud_tweets.py            final_dataset_ss.csv\n",
      "\u001b[34mLibrary\u001b[m\u001b[m                    reduce_dataset.py\n",
      "\u001b[34mMovies\u001b[m\u001b[m\n"
     ]
    }
   ],
   "source": [
    "import pandas as pd\n",
    "from sklearn.model_selection import train_test_split\n",
    "from xgboost import XGBClassifier\n",
    "from sklearn.metrics import accuracy_score\n",
    "import os\n",
    "\n",
    "os.chdir('/Users/bryanyeo')\n",
    "!ls\n"
   ]
  },
  {
   "cell_type": "code",
   "execution_count": 139,
   "metadata": {},
   "outputs": [
    {
     "name": "stdout",
     "output_type": "stream",
     "text": [
      "Index(['id', 'text', 'source', 'user_id', 'truncated', 'in_reply_to_status_id',\n",
      "       'in_reply_to_user_id', 'in_reply_to_screen_name', 'retweeted_status_id',\n",
      "       'geo', 'place', 'contributors', 'retweet_count', 'reply_count',\n",
      "       'favorite_count', 'favorited', 'retweeted', 'possibly_sensitive',\n",
      "       'num_hashtags', 'num_urls', 'num_mentions', 'created_at', 'timestamp',\n",
      "       'crawled_at', 'updated', 'IsBot'],\n",
      "      dtype='object')\n"
     ]
    }
   ],
   "source": [
    "# Load the dataset\n",
    "dataset = pd.read_csv('final_dataset_combined.csv')\n",
    "\n",
    "headers = dataset.columns\n",
    "print(headers)"
   ]
  },
  {
   "cell_type": "code",
   "execution_count": 140,
   "metadata": {},
   "outputs": [
    {
     "name": "stdout",
     "output_type": "stream",
     "text": [
      "['user_id', 'truncated', 'in_reply_to_status_id', 'in_reply_to_user_id', 'retweeted_status_id', 'geo', 'contributors', 'retweet_count', 'reply_count', 'favorite_count', 'favorited', 'retweeted', 'possibly_sensitive', 'num_hashtags', 'num_urls', 'num_mentions']\n"
     ]
    }
   ],
   "source": [
    "float64_columns = dataset.select_dtypes(include=['float64']).columns.tolist()\n",
    "\n",
    "print(float64_columns)"
   ]
  },
  {
   "cell_type": "code",
   "execution_count": 141,
   "metadata": {},
   "outputs": [
    {
     "name": "stdout",
     "output_type": "stream",
     "text": [
      "<class 'pandas.core.frame.DataFrame'>\n",
      "RangeIndex: 60000 entries, 0 to 59999\n",
      "Data columns (total 17 columns):\n",
      " #   Column                 Non-Null Count  Dtype  \n",
      "---  ------                 --------------  -----  \n",
      " 0   user_id                60000 non-null  float64\n",
      " 1   truncated              0 non-null      float64\n",
      " 2   in_reply_to_status_id  60000 non-null  float64\n",
      " 3   in_reply_to_user_id    60000 non-null  float64\n",
      " 4   retweeted_status_id    60000 non-null  float64\n",
      " 5   geo                    0 non-null      float64\n",
      " 6   contributors           0 non-null      float64\n",
      " 7   retweet_count          60000 non-null  float64\n",
      " 8   reply_count            60000 non-null  float64\n",
      " 9   favorite_count         60000 non-null  float64\n",
      " 10  favorited              0 non-null      float64\n",
      " 11  retweeted              0 non-null      float64\n",
      " 12  possibly_sensitive     1753 non-null   float64\n",
      " 13  num_hashtags           60000 non-null  float64\n",
      " 14  num_urls               60000 non-null  float64\n",
      " 15  num_mentions           60000 non-null  float64\n",
      " 16  IsBot                  60000 non-null  int64  \n",
      "dtypes: float64(16), int64(1)\n",
      "memory usage: 7.8 MB\n"
     ]
    }
   ],
   "source": [
    "dataset_testing = dataset[float64_columns + ['IsBot']]\n",
    "\n",
    "dataset_testing.info()"
   ]
  },
  {
   "cell_type": "code",
   "execution_count": 142,
   "metadata": {},
   "outputs": [
    {
     "name": "stdout",
     "output_type": "stream",
     "text": [
      "['user_id', 'truncated', 'in_reply_to_status_id', 'in_reply_to_user_id', 'retweeted_status_id', 'geo', 'contributors', 'retweet_count', 'reply_count', 'favorite_count', 'favorited', 'retweeted', 'possibly_sensitive', 'num_hashtags', 'num_urls', 'num_mentions', 'IsBot']\n"
     ]
    }
   ],
   "source": [
    "# Get column headers\n",
    "column_headers = dataset_testing.columns.tolist()\n",
    "\n",
    "# Print column headers\n",
    "print(column_headers)"
   ]
  },
  {
   "cell_type": "code",
   "execution_count": 143,
   "metadata": {},
   "outputs": [
    {
     "name": "stdout",
     "output_type": "stream",
     "text": [
      "<class 'pandas.core.frame.DataFrame'>\n",
      "RangeIndex: 60000 entries, 0 to 59999\n",
      "Data columns (total 11 columns):\n",
      " #   Column                 Non-Null Count  Dtype  \n",
      "---  ------                 --------------  -----  \n",
      " 0   user_id                60000 non-null  float64\n",
      " 1   in_reply_to_status_id  60000 non-null  float64\n",
      " 2   in_reply_to_user_id    60000 non-null  float64\n",
      " 3   retweeted_status_id    60000 non-null  float64\n",
      " 4   retweet_count          60000 non-null  float64\n",
      " 5   reply_count            60000 non-null  float64\n",
      " 6   favorite_count         60000 non-null  float64\n",
      " 7   num_hashtags           60000 non-null  float64\n",
      " 8   num_urls               60000 non-null  float64\n",
      " 9   num_mentions           60000 non-null  float64\n",
      " 10  IsBot                  60000 non-null  int64  \n",
      "dtypes: float64(10), int64(1)\n",
      "memory usage: 5.0 MB\n"
     ]
    }
   ],
   "source": [
    "columns_to_drop = ['truncated', 'geo', 'contributors','favorited','retweeted','possibly_sensitive']\n",
    "\n",
    "# Drop the specified columns\n",
    "dataset_testing = dataset_testing.drop(columns=columns_to_drop)\n",
    "\n",
    "dataset_testing.info()"
   ]
  },
  {
   "cell_type": "code",
   "execution_count": 144,
   "metadata": {},
   "outputs": [
    {
     "data": {
      "text/plain": [
       "48572       806585.0\n",
       "38696       755116.0\n",
       "13611     63258466.0\n",
       "35213       722623.0\n",
       "31766       678033.0\n",
       "            ...     \n",
       "54343      1382561.0\n",
       "38158       755116.0\n",
       "860       24858289.0\n",
       "15795     96435556.0\n",
       "56422    148022818.0\n",
       "Name: user_id, Length: 48000, dtype: float64"
      ]
     },
     "execution_count": 144,
     "metadata": {},
     "output_type": "execute_result"
    }
   ],
   "source": [
    "dataset_testing\n",
    "\n",
    "# Separate features (X) and target variable (y)\n",
    "X = dataset_testing.drop(columns=['IsBot'])  # Features\n",
    "y = dataset_testing['IsBot']  # Target variable\n",
    "\n",
    "# Split the dataset into training and testing sets (80% training, 20% testing)\n",
    "X_train, X_test, y_train, y_test = train_test_split(X, y, test_size=0.2, random_state=42)\n",
    "\n",
    "X_train['user_id']"
   ]
  },
  {
   "cell_type": "code",
   "execution_count": 145,
   "metadata": {},
   "outputs": [
    {
     "data": {
      "image/png": "[encoded data removed]",
      "text/plain": [
       "<Figure size 800x600 with 1 Axes>"
      ]
     },
     "metadata": {},
     "output_type": "display_data"
    }
   ],
   "source": [
    "import pandas as pd\n",
    "import seaborn as sns\n",
    "import matplotlib.pyplot as plt\n",
    "\n",
    "\n",
    "# Specify the attribute and the target column\n",
    "attribute = 'user_id'\n",
    "target = 'IsBot'\n",
    "\n",
    "# Group the data by the target value and calculate the mean of the attribute\n",
    "grouped_data = dataset_testing.groupby(target)[attribute].mean().reset_index()\n",
    "\n",
    "# Plot the distribution\n",
    "plt.figure(figsize=(8, 6))\n",
    "sns.barplot(x=target, y=attribute, data=grouped_data)\n",
    "plt.title(f'Distribution of {attribute} Grouped by {target}')\n",
    "plt.xlabel(target)\n",
    "plt.ylabel(f'Mean {attribute}')\n",
    "plt.show()\n"
   ]
  },
  {
   "cell_type": "code",
   "execution_count": 146,
   "metadata": {},
   "outputs": [
    {
     "data": {
      "image/png": "[encoded data removed]",
      "text/plain": [
       "<Figure size 800x600 with 1 Axes>"
      ]
     },
     "metadata": {},
     "output_type": "display_data"
    }
   ],
   "source": [
    "plt.figure(figsize=(8, 6))\n",
    "sns.histplot(data=dataset_testing, x=attribute, hue=target, element=\"step\", kde=True)\n",
    "plt.title(f'Distribution of {attribute} Grouped by {target}')\n",
    "plt.xlabel(attribute)\n",
    "plt.show()"
   ]
  },
  {
   "cell_type": "code",
   "execution_count": 149,
   "metadata": {},
   "outputs": [
    {
     "name": "stdout",
     "output_type": "stream",
     "text": [
      "Attribute Ranking based on Accuracy:\n",
      "1. user_id: 1.0\n",
      "2. num_mentions: 0.7123333333333334\n",
      "3. in_reply_to_user_id: 0.6575\n",
      "4. in_reply_to_status_id: 0.6516666666666666\n",
      "5. num_urls: 0.5908333333333333\n",
      "6. retweeted_status_id: 0.5566666666666666\n",
      "7. favorite_count: 0.5461666666666667\n",
      "8. num_hashtags: 0.5304166666666666\n",
      "9. retweet_count: 0.5275833333333333\n",
      "10. reply_count: 0.49241666666666667\n"
     ]
    }
   ],
   "source": [
    "import pandas as pd\n",
    "from sklearn.model_selection import train_test_split\n",
    "from sklearn.linear_model import LogisticRegression\n",
    "from sklearn.metrics import accuracy_score\n",
    "from sklearn.ensemble import RandomForestClassifier\n",
    "from sklearn.neighbors import KNeighborsClassifier\n",
    "# Dictionary to store accuracy for each feature\n",
    "accuracy_dict = {}\n",
    "\n",
    "# Iterate over each feature and perform logistic regression separately\n",
    "for feature in dataset_testing.columns[:-1]:  # Exclude the target column\n",
    "    X = dataset_testing[[feature]]\n",
    "    y = dataset_testing['IsBot']\n",
    "    \n",
    "    # Split data into training and testing sets\n",
    "    X_train, X_test, y_train, y_test = train_test_split(X, y, test_size=0.2, random_state=42)\n",
    "    \n",
    "    # Create and fit logistic regression model\n",
    "    model = XGBClassifier()\n",
    "    model.fit(X_train, y_train)\n",
    "    \n",
    "    # Predict on the test set\n",
    "    y_pred = model.predict(X_test)\n",
    "    \n",
    "    # Calculate accuracy\n",
    "    accuracy = accuracy_score(y_test, y_pred)\n",
    "    \n",
    "    # Store accuracy in the dictionary\n",
    "    accuracy_dict[feature] = accuracy\n",
    "\n",
    "# Sort the dictionary by accuracy in descending order\n",
    "sorted_accuracy = sorted(accuracy_dict.items(), key=lambda x: x[1], reverse=True)\n",
    "\n",
    "# Print the ranking\n",
    "print(\"Attribute Ranking based on Accuracy:\")\n",
    "for i, (feature, accuracy) in enumerate(sorted_accuracy, 1):\n",
    "    print(f\"{i}. {feature}: {accuracy}\")\n"
   ]
  },
  {
   "cell_type": "code",
   "execution_count": 120,
   "metadata": {},
   "outputs": [
    {
     "name": "stdout",
     "output_type": "stream",
     "text": [
      "Accuracy: 1.0\n"
     ]
    }
   ],
   "source": [
    "# Initialize the XGBoost model\n",
    "model = XGBClassifier()\n",
    "\n",
    "# Train the model on the training data\n",
    "model.fit(X_train, y_train)\n",
    "\n",
    "# Make predictions on the testing data\n",
    "y_pred = model.predict(X_test)\n",
    "\n",
    "# Evaluate the model's accuracy\n",
    "accuracy = accuracy_score(y_test, y_pred)\n",
    "print(\"Accuracy:\", accuracy)\n",
    "\n",
    "# Access the underlying booster\n",
    "booster = model.get_booster()"
   ]
  },
  {
   "cell_type": "code",
   "execution_count": 119,
   "metadata": {},
   "outputs": [
    {
     "name": "stdout",
     "output_type": "stream",
     "text": [
      "Feature importances:\n",
      "Feature user_id: Importance 158.0\n",
      "Feature num_urls: Importance 16.0\n"
     ]
    }
   ],
   "source": [
    "from xgboost import XGBClassifier\n",
    "from sklearn.metrics import accuracy_score\n",
    "\n",
    "# Get feature importances\n",
    "feature_importances = booster.get_score(importance_type='weight')  # or 'gain', 'cover', 'total_gain', 'total_cover'\n",
    "\n",
    "# Print feature importances\n",
    "print(\"Feature importances:\")\n",
    "for feature, importance in feature_importances.items():\n",
    "    print(f\"Feature {feature}: Importance {importance}\")"
   ]
  },
  {
   "cell_type": "code",
   "execution_count": 92,
   "metadata": {},
   "outputs": [
    {
     "name": "stdout",
     "output_type": "stream",
     "text": [
      "retweet_count     0.0\n",
      "reply_count       0.0\n",
      "favorite_count    0.0\n",
      "num_hashtags      0.0\n",
      "num_urls          1.0\n",
      "num_mentions      0.0\n",
      "IsBot             1.0\n",
      "Name: 0, dtype: float64\n",
      "text     I Pooh - In silenzio 1968 http://t.co/ahvQxUqTws\n",
      "IsBot                                                   1\n",
      "Name: 0, dtype: object\n"
     ]
    }
   ],
   "source": [
    "# Select the columns you want to keep\n",
    "selected_columns = ['retweet_count', 'reply_count', 'favorite_count', 'num_hashtags', 'num_urls', 'num_mentions']\n",
    "\n",
    "# Keep only the selected columns\n",
    "dataset_selected = dataset[selected_columns + ['IsBot']]\n",
    "first_row = dataset_selected.iloc[0]\n",
    "\n",
    "print(first_row)\n",
    "\n",
    "# Keep only the selected columns tweet text only\n",
    "dataset_tweets = dataset[['text'] + ['IsBot']]\n",
    "first_row = dataset_tweets.iloc[0]\n",
    "\n",
    "print(first_row)"
   ]
  },
  {
   "cell_type": "markdown",
   "metadata": {},
   "source": [
    "The choice of limiting the size of the feature set is motivated by\n",
    "two important reasons:\n",
    "\n",
    "• Model efficiency: A reduced set of features yields very efficient models that can be trained faster and are less prone\n",
    "to overfitting, which is a common issue in social media data\n",
    "mining due to the presence of outliers.\n",
    "\n",
    "• Interpretability: A limited set of features with an obvious\n",
    "meaning, like the ones provided by account metadata, allows\n",
    "to produce interpretable models. This is a very important\n",
    "point, especially when combined with deep learning strategies that are notoriously hard to interpret."
   ]
  },
  {
   "cell_type": "code",
   "execution_count": 41,
   "metadata": {},
   "outputs": [],
   "source": [
    "# Separate features (X) and target variable (y)\n",
    "X = dataset_selected.drop(columns=['IsBot'])  # Features\n",
    "y = dataset_selected['IsBot']  # Target variable\n",
    "\n",
    "# Split the dataset into training and testing sets (80% training, 20% testing)\n",
    "X_train, X_test, y_train, y_test = train_test_split(X, y, test_size=0.2, random_state=42)"
   ]
  },
  {
   "cell_type": "code",
   "execution_count": 90,
   "metadata": {},
   "outputs": [
    {
     "name": "stdout",
     "output_type": "stream",
     "text": [
      "Summary of training dataset:\n",
      "\n",
      "<class 'pandas.core.frame.DataFrame'>\n",
      "Index: 48000 entries, 48572 to 56422\n",
      "Data columns (total 6 columns):\n",
      " #   Column          Non-Null Count  Dtype  \n",
      "---  ------          --------------  -----  \n",
      " 0   retweet_count   48000 non-null  float64\n",
      " 1   reply_count     48000 non-null  float64\n",
      " 2   favorite_count  48000 non-null  float64\n",
      " 3   num_hashtags    48000 non-null  float64\n",
      " 4   num_urls        48000 non-null  float64\n",
      " 5   num_mentions    48000 non-null  float64\n",
      "dtypes: float64(6)\n",
      "memory usage: 2.6 MB\n",
      "None\n"
     ]
    }
   ],
   "source": [
    "# Summarize information of the training dataset\n",
    "print(\"Summary of training dataset:\")\n",
    "print(\"\")\n",
    "print(X_train.info())"
   ]
  },
  {
   "cell_type": "code",
   "execution_count": 48,
   "metadata": {},
   "outputs": [
    {
     "name": "stdout",
     "output_type": "stream",
     "text": [
      "Accuracy: 0.7300833333333333\n"
     ]
    }
   ],
   "source": [
    "# Initialize the XGBoost model\n",
    "model = XGBClassifier()\n",
    "\n",
    "# Train the model on the training data\n",
    "model.fit(X_train, y_train)\n",
    "\n",
    "# Make predictions on the testing data\n",
    "y_pred = model.predict(X_test)\n",
    "\n",
    "# Evaluate the model's accuracy\n",
    "accuracy = accuracy_score(y_test, y_pred)\n",
    "print(\"Accuracy:\", accuracy)\n",
    "\n",
    "# Access the underlying booster\n",
    "booster = model.get_booster()"
   ]
  },
  {
   "cell_type": "code",
   "execution_count": 128,
   "metadata": {},
   "outputs": [
    {
     "name": "stdout",
     "output_type": "stream",
     "text": [
      "Accuracy: 0.7116666666666667\n"
     ]
    }
   ],
   "source": [
    "# Initialize the KNeighborsClassifier model\n",
    "model = KNeighborsClassifier(n_neighbors=2)\n",
    "\n",
    "# Train the model on the training data\n",
    "model.fit(X_train, y_train)\n",
    "\n",
    "# Make predictions on the testing data\n",
    "y_pred = model.predict(X_test)\n",
    "\n",
    "# Evaluate the model's accuracy\n",
    "accuracy = accuracy_score(y_test, y_pred)\n",
    "print(\"Accuracy:\", accuracy)\n"
   ]
  },
  {
   "cell_type": "code",
   "execution_count": 87,
   "metadata": {},
   "outputs": [
    {
     "name": "stdout",
     "output_type": "stream",
     "text": [
      "Logistic Regression Accuracy: 0.7178333333333333\n"
     ]
    }
   ],
   "source": [
    "from sklearn.linear_model import LogisticRegression\n",
    "\n",
    "# Initialize the Logistic Regression model\n",
    "logreg_model = LogisticRegression()\n",
    "\n",
    "# Train the model on the training data\n",
    "logreg_model.fit(X_train, y_train)\n",
    "\n",
    "# Make predictions on the testing data\n",
    "y_pred_logreg = logreg_model.predict(X_test)\n",
    "\n",
    "# Evaluate the model's accuracy\n",
    "accuracy_logreg = accuracy_score(y_test, y_pred_logreg)\n",
    "print(\"Logistic Regression Accuracy:\", accuracy_logreg)\n"
   ]
  },
  {
   "cell_type": "code",
   "execution_count": 85,
   "metadata": {},
   "outputs": [
    {
     "name": "stdout",
     "output_type": "stream",
     "text": [
      "Random Forest Accuracy: 0.7234166666666667\n"
     ]
    }
   ],
   "source": [
    "from sklearn.ensemble import RandomForestClassifier\n",
    "\n",
    "# Initialize the Random Forest model\n",
    "rf_model = RandomForestClassifier()\n",
    "\n",
    "# Train the model on the training data\n",
    "rf_model.fit(X_train, y_train)\n",
    "\n",
    "# Make predictions on the testing data\n",
    "y_pred_rf = rf_model.predict(X_test)\n",
    "\n",
    "# Evaluate the model's accuracy\n",
    "accuracy_rf = accuracy_score(y_test, y_pred_rf)\n",
    "print(\"Random Forest Accuracy:\", accuracy_rf)\n"
   ]
  },
  {
   "cell_type": "code",
   "execution_count": 86,
   "metadata": {},
   "outputs": [
    {
     "name": "stderr",
     "output_type": "stream",
     "text": [
      "/Library/Frameworks/Python.framework/Versions/3.12/lib/python3.12/site-packages/sklearn/ensemble/_weight_boosting.py:519: FutureWarning: The SAMME.R algorithm (the default) is deprecated and will be removed in 1.6. Use the SAMME algorithm to circumvent this warning.\n",
      "  warnings.warn(\n"
     ]
    },
    {
     "name": "stdout",
     "output_type": "stream",
     "text": [
      "AdaBoost Accuracy: 0.7231666666666666\n"
     ]
    }
   ],
   "source": [
    "from sklearn.ensemble import AdaBoostClassifier\n",
    "\n",
    "# Initialize the AdaBoost model\n",
    "adaboost_model = AdaBoostClassifier()\n",
    "\n",
    "# Train the model on the training data\n",
    "adaboost_model.fit(X_train, y_train)\n",
    "\n",
    "# Make predictions on the testing data\n",
    "y_pred_adaboost = adaboost_model.predict(X_test)\n",
    "\n",
    "# Evaluate the model's accuracy\n",
    "accuracy_adaboost = accuracy_score(y_test, y_pred_adaboost)\n",
    "print(\"AdaBoost Accuracy:\", accuracy_adaboost)\n"
   ]
  },
  {
   "cell_type": "code",
   "execution_count": 88,
   "metadata": {},
   "outputs": [
    {
     "name": "stdout",
     "output_type": "stream",
     "text": [
      "Feature importances:\n",
      "Feature retweet_count: Importance 896.0\n",
      "Feature favorite_count: Importance 556.0\n",
      "Feature num_hashtags: Importance 381.0\n",
      "Feature num_urls: Importance 203.0\n",
      "Feature num_mentions: Importance 345.0\n"
     ]
    }
   ],
   "source": [
    "from xgboost import XGBClassifier\n",
    "from sklearn.metrics import accuracy_score\n",
    "\n",
    "# Get feature importances\n",
    "feature_importances = booster.get_score(importance_type='weight')  # or 'gain', 'cover', 'total_gain', 'total_cover'\n",
    "\n",
    "# Print feature importances\n",
    "print(\"Feature importances:\")\n",
    "for feature, importance in feature_importances.items():\n",
    "    print(f\"Feature {feature}: Importance {importance}\")\n"
   ]
  }
 ],
 "metadata": {
  "kernelspec": {
   "display_name": "Python 3",
   "language": "python",
   "name": "python3"
  },
  "language_info": {
   "codemirror_mode": {
    "name": "ipython",
    "version": 3
   },
   "file_extension": ".py",
   "mimetype": "text/x-python",
   "name": "python",
   "nbconvert_exporter": "python",
   "pygments_lexer": "ipython3",
   "version": "3.12.2"
  }
 },
 "nbformat": 4,
 "nbformat_minor": 2
}
