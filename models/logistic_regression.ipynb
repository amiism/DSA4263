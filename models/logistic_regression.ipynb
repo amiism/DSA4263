{
  "metadata": {
    "kernelspec": {
      "name": "python",
      "display_name": "Python (Pyodide)",
      "language": "python"
    },
    "language_info": {
      "codemirror_mode": {
        "name": "python",
        "version": 3
      },
      "file_extension": ".py",
      "mimetype": "text/x-python",
      "name": "python",
      "nbconvert_exporter": "python",
      "pygments_lexer": "ipython3",
      "version": "3.8"
    }
  },
  "nbformat_minor": 4,
  "nbformat": 4,
  "cells": [
    {
      "cell_type": "code",
      "source": "import pandas as pd\n\ndf=pd.read_csv('combined_users_full.csv')",
      "metadata": {
        "trusted": true
      },
      "outputs": [],
      "execution_count": 22
    },
    {
      "cell_type": "code",
      "source": "import pandas as pd\nfrom sklearn.model_selection import train_test_split\nfrom sklearn.linear_model import LogisticRegression\nfrom sklearn.metrics import classification_report\n\n# Drop columns with any NaN values\ndf_cleaned = df.dropna(axis=1)\n\nselected_features = ['followers_count', 'friends_count', 'statuses_count', 'favourites_count', 'listed_count'] # example features\nX = df_cleaned[selected_features]\ny = df_cleaned['Type']\n\n# Splitting dataset into training and testing set\nX_train, X_test, y_train, y_test = train_test_split(X, y, test_size=0.2, random_state=42)\n\n# Logistic Regression model\nmodel = LogisticRegression(solver='liblinear') # 'liblinear' is more memory efficient for small datasets\n\n# Fit the model\nmodel.fit(X_train, y_train)\n\n# Predictions\ny_pred = model.predict(X_test)\n\n# Classification report\nprint(classification_report(y_test, y_pred))",
      "metadata": {
        "trusted": true
      },
      "outputs": [
        {
          "name": "stderr",
          "text": "/lib/python3.11/site-packages/sklearn/svm/_base.py:1250: ConvergenceWarning: Liblinear failed to converge, increase the number of iterations.\n  warnings.warn(\n",
          "output_type": "stream"
        },
        {
          "name": "stdout",
          "text": "              precision    recall  f1-score   support\n\n         Bot       0.92      0.91      0.91      1528\n     Genuine       0.79      0.83      0.81       676\n\n    accuracy                           0.88      2204\n   macro avg       0.86      0.87      0.86      2204\nweighted avg       0.88      0.88      0.88      2204\n\n",
          "output_type": "stream"
        }
      ],
      "execution_count": 23
    },
    {
      "cell_type": "code",
      "source": "model = LogisticRegression(solver='liblinear', max_iter=10000)  # Increase max_iter\nfrom sklearn.preprocessing import StandardScaler\n\n# Scaling features\nscaler = StandardScaler()\nX_train_scaled = scaler.fit_transform(X_train)\nX_test_scaled = scaler.transform(X_test)\n\nmodel = LogisticRegression(solver='saga', max_iter=10000)  # Switch to 'saga' solver\n\n# Fit the model on scaled data\nmodel.fit(X_train_scaled, y_train)\n# Predictions\ny_pred = model.predict(X_test)\n\n# Classification report\nprint(classification_report(y_test, y_pred))",
      "metadata": {
        "trusted": true
      },
      "outputs": [
        {
          "name": "stderr",
          "text": "/lib/python3.11/site-packages/sklearn/base.py:458: UserWarning: X has feature names, but LogisticRegression was fitted without feature names\n  warnings.warn(\n",
          "output_type": "stream"
        },
        {
          "name": "stdout",
          "text": "              precision    recall  f1-score   support\n\n         Bot       0.98      0.34      0.51      1528\n     Genuine       0.40      0.99      0.57       676\n\n    accuracy                           0.54      2204\n   macro avg       0.69      0.66      0.54      2204\nweighted avg       0.80      0.54      0.53      2204\n\n",
          "output_type": "stream"
        }
      ],
      "execution_count": 25
    },
    {
      "cell_type": "code",
      "source": "class_distribution = df['Type'].value_counts()\n\n# Print the distribution\nprint(class_distribution)\n",
      "metadata": {
        "trusted": true
      },
      "outputs": [
        {
          "name": "stdout",
          "text": "Bot        7543\nGenuine    3474\nName: Type, dtype: int64\n",
          "output_type": "stream"
        }
      ],
      "execution_count": 26
    },
    {
      "cell_type": "code",
      "source": "\n",
      "metadata": {
        "trusted": true
      },
      "outputs": [],
      "execution_count": null
    },
    {
      "cell_type": "code",
      "source": "",
      "metadata": {
        "trusted": true
      },
      "outputs": [],
      "execution_count": null
    }
  ]
}