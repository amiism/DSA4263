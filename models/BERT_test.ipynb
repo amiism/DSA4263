{
 "cells": [
  {
   "cell_type": "code",
   "execution_count": 5,
   "metadata": {},
   "outputs": [
    {
     "name": "stderr",
     "output_type": "stream",
     "text": [
      "Some weights of the PyTorch model were not used when initializing the TF 2.0 model TFBertModel: ['cls.predictions.transform.LayerNorm.weight', 'cls.predictions.transform.dense.weight', 'cls.predictions.bias', 'cls.predictions.transform.LayerNorm.bias', 'cls.predictions.transform.dense.bias', 'cls.seq_relationship.weight', 'cls.seq_relationship.bias']\n",
      "- This IS expected if you are initializing TFBertModel from a PyTorch model trained on another task or with another architecture (e.g. initializing a TFBertForSequenceClassification model from a BertForPreTraining model).\n",
      "- This IS NOT expected if you are initializing TFBertModel from a PyTorch model that you expect to be exactly identical (e.g. initializing a TFBertForSequenceClassification model from a BertForSequenceClassification model).\n",
      "All the weights of TFBertModel were initialized from the PyTorch model.\n",
      "If your task is similar to the task the model of the checkpoint was trained on, you can already use TFBertModel for predictions without further training.\n"
     ]
    },
    {
     "name": "stdout",
     "output_type": "stream",
     "text": [
      "Epoch 1/3\n",
      "1125/1125 [==============================] - 2757s 2s/step - loss: 0.6958 - accuracy: 0.5018 - val_loss: 0.6931 - val_accuracy: 0.5105\n",
      "Epoch 2/3\n",
      "1125/1125 [==============================] - 2747s 2s/step - loss: 0.6934 - accuracy: 0.5008 - val_loss: 0.6931 - val_accuracy: 0.5105\n",
      "Epoch 3/3\n",
      "1125/1125 [==============================] - 2756s 2s/step - loss: 0.6933 - accuracy: 0.5020 - val_loss: 0.6931 - val_accuracy: 0.5013\n",
      "313/313 [==============================] - 184s 579ms/step - loss: 0.6931 - accuracy: 0.5037\n"
     ]
    },
    {
     "data": {
      "text/plain": [
       "[0.6931256055831909, 0.5037000179290771]"
      ]
     },
     "execution_count": 5,
     "metadata": {},
     "output_type": "execute_result"
    }
   ],
   "source": [
    "#Import necessary libraries\n",
    "import pandas as pd\n",
    "import numpy as np\n",
    "import tensorflow as tf\n",
    "from sklearn.model_selection import train_test_split\n",
    "from sklearn.preprocessing import StandardScaler\n",
    "from transformers import BertTokenizer, TFBertModel\n",
    "data = pd.read_csv('bot_detection_data.csv')  # Make sure to update this path\n",
    "\n",
    "# Numeric features and standardization\n",
    "numeric_features = data[['Retweet Count', 'Mention Count', 'Follower Count']]\n",
    "scaler = StandardScaler()\n",
    "numeric_features = scaler.fit_transform(numeric_features)\n",
    "\n",
    "# Convert 'Verified' to integer\n",
    "verified = data['Verified'].astype(int).values.reshape(-1, 1)\n",
    "\n",
    "# Combine numeric features and 'Verified'\n",
    "additional_features = np.concatenate((numeric_features, verified), axis=1)\n",
    "\n",
    "# Split data\n",
    "train_texts, test_texts, train_labels, test_labels, train_features, test_features = train_test_split(\n",
    "    data['Tweet'], data['Bot Label'], additional_features, test_size=0.2, random_state=42\n",
    ")\n",
    "\n",
    "#Tokenization and Encoding\n",
    "tokenizer = BertTokenizer.from_pretrained('bert-base-uncased')\n",
    "\n",
    "def encode_texts(texts):\n",
    "    return tokenizer(texts, padding=True, truncation=True, max_length=128, return_tensors=\"tf\")\n",
    "\n",
    "train_encodings = encode_texts(train_texts.tolist())\n",
    "test_encodings = encode_texts(test_texts.tolist())\n",
    "\n",
    "#Define the custom model\n",
    "class BertWithFeatures(tf.keras.Model):\n",
    "    def __init__(self, bert_model, num_additional_features):\n",
    "        super(BertWithFeatures, self).__init__()\n",
    "        self.bert = bert_model\n",
    "        self.dense = tf.keras.layers.Dense(32, activation='relu')\n",
    "        self.dropout = tf.keras.layers.Dropout(0.1)\n",
    "        self.classifier = tf.keras.layers.Dense(1, activation='sigmoid')\n",
    "        self.additional_features_layer = tf.keras.layers.Dense(num_additional_features, activation='relu')\n",
    "\n",
    "    def call(self, inputs):\n",
    "        input_ids, attention_mask, additional_features = inputs\n",
    "        \n",
    "        # BERT model\n",
    "        bert_output = self.bert(input_ids, attention_mask=attention_mask)[1]\n",
    "        bert_output = self.dropout(bert_output)\n",
    "        \n",
    "        # Additional features\n",
    "        additional_features = self.additional_features_layer(additional_features)\n",
    "        \n",
    "        # Concatenate BERT output with additional features\n",
    "        combined = tf.concat([bert_output, additional_features], axis=-1)\n",
    "        combined = self.dense(combined)\n",
    "        \n",
    "        # Classifier\n",
    "        return self.classifier(combined)\n",
    "\n",
    "# Initialize the model\n",
    "bert_base = TFBertModel.from_pretrained('bert-base-uncased')\n",
    "model = BertWithFeatures(bert_base, additional_features.shape[1])\n",
    "\n",
    "#Compile and Train the model\n",
    "optimizer = tf.keras.optimizers.Adam(learning_rate=5e-5)\n",
    "model.compile(optimizer=optimizer, loss='binary_crossentropy', metrics=['accuracy'])\n",
    "\n",
    "# Prepare inputs\n",
    "train_input = {\n",
    "    'input_ids': train_encodings['input_ids'], \n",
    "    'attention_mask': train_encodings['attention_mask'], \n",
    "    'additional_features': train_features\n",
    "}\n",
    "test_input = {\n",
    "    'input_ids': test_encodings['input_ids'], \n",
    "    'attention_mask': test_encodings['attention_mask'], \n",
    "    'additional_features': test_features\n",
    "}\n",
    "\n",
    "# Train the model\n",
    "model.fit(\n",
    "    (train_input['input_ids'], train_input['attention_mask'], train_input['additional_features']), \n",
    "    train_labels.values, \n",
    "    validation_split=0.1,\n",
    "    batch_size=32, \n",
    "    epochs=3\n",
    ")\n",
    "\n",
    "#Evaluate the model\n",
    "model.evaluate(\n",
    "    (test_input['input_ids'], test_input['attention_mask'], test_input['additional_features']),\n",
    "    test_labels.values\n",
    ")\n"
   ]
  }
 ],
 "metadata": {
  "kernelspec": {
   "display_name": "Python 3",
   "language": "python",
   "name": "python3"
  },
  "language_info": {
   "codemirror_mode": {
    "name": "ipython",
    "version": 3
   },
   "file_extension": ".py",
   "mimetype": "text/x-python",
   "name": "python",
   "nbconvert_exporter": "python",
   "pygments_lexer": "ipython3",
   "version": "3.8.7"
  }
 },
 "nbformat": 4,
 "nbformat_minor": 2
}
